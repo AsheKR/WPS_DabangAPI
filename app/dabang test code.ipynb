{
 "cells": [
  {
   "cell_type": "code",
   "execution_count": 11,
   "metadata": {},
   "outputs": [],
   "source": [
    "from selenium import webdriver\n",
    "import time\n",
    "from selenium.common.exceptions import NoSuchElementException"
   ]
  },
  {
   "cell_type": "markdown",
   "metadata": {},
   "source": [
    "# 아파트 코드"
   ]
  },
  {
   "cell_type": "code",
   "execution_count": 12,
   "metadata": {},
   "outputs": [],
   "source": [
    "from selenium import webdriver\n",
    "\n",
    "driver = webdriver.Chrome('/Users/mac/projects/ChromeWebDriver/chromedriver')\n"
   ]
  },
  {
   "cell_type": "code",
   "execution_count": 14,
   "metadata": {},
   "outputs": [],
   "source": [
    "driver.get('https://www.dabangapp.com/room/5e4a2ece3982731d6e5b52d7')\n",
    "\n",
    "# 아파트\n",
    "driver.get('https://www.dabangapp.com/room/5e8ab40e3d0b3003b99b42f7')"
   ]
  },
  {
   "cell_type": "code",
   "execution_count": 21,
   "metadata": {},
   "outputs": [],
   "source": [
    "post_type = driver.find_element_by_xpath('/html/body/div[1]/div/div[1]/div/ul/li[1]/p/span')\n",
    "post_type = post_type.get_attribute('innerText')"
   ]
  },
  {
   "cell_type": "code",
   "execution_count": 22,
   "metadata": {},
   "outputs": [
    {
     "name": "stdout",
     "output_type": "stream",
     "text": [
      "description 설명 : 강남진입 5분, 성수동 연예인 아파트, 귀한전세 나왔네요\n",
      "🔶 다른 광고매물들에 비해 금액이 비싸보일 수 있습니다. 조금도 조정 하지 않은 그대로의 실매물이기 때문입니다. 🔶\n",
      "\n",
      "🔶 더 이상 허위매물에 속지 마시고 바로 전화주세요 🔶\n",
      "\n",
      "🔶 실매물 전문중개인. 실사진, 실광고 🔶\n",
      "\n",
      "🔶 참된 중개사라면, 찾아보기 전에 이미 매물을 알고 있어야 한다고 생각합니다. 🔶\n",
      "\n",
      "--------------------------------------------------------------------------\n",
      "🔶 밤 12시에도 상담가능. 새벽에도 상담 가능 합니다 🔶\n",
      "\n",
      "🔶 더 이상 허위매물에 속지 마시고 바로 전화주세요 🔶\n",
      "\n",
      "🔶 금액 조정을 원하시면 집주인과 싸워서라도 조정해 드리겠습니다. 🔶\n",
      "\n",
      "🔶 언제나 저에게 연락온 모든 손님께는 한분 한분 좋은 집을 구해드리기 위해 노력하는 성지희 팀장입니다. 🔶\n",
      "\n",
      "🔶 한분 한분 성심성의 것 제가 살집 구하듯이 꼼꼼하게 체크해 드리겠습니다. 🔶\n",
      "\n",
      "🔶 구경하신다는 마음으로 편하게 오셔도 괜찮습니다. 원하시는 방을 찾을 때 까지 함께 해드리겠습니다. 🔶\n",
      "\n",
      "🔶 다른 광고를 더보면서 고민하실 시간에 저한테 전화를 걸어주세요. 후회하지 않게 해드릴 자신 있습니다. 🔶\n",
      "\n",
      "🔶 돈 많은 임대인이 아닌, 손님들 편에 서서 손님들에게 유리한 조건으로 방 구하실 수 있게 만들겠습니다. 🔶\n",
      "\n",
      "\n",
      " ☎ 전화, 문자 주세요!\n",
      " ☎ 카카오톡 ID : jihjir\n",
      " ☎ 0ㅣ0-8592-0053 성지희팀장\n",
      "\n",
      "  (상담 시 매물번호를 알려주시면 빠른 상담이 가능합니다) \n",
      "접기\n",
      "[<selenium.webdriver.remote.webelement.WebElement (session=\"424eab47e75659340a6a9c04d6256f7a\", element=\"0.5337703677541652-4\")>]\n",
      "address Load 도로명주소 : 서울시 성동구 성수동2가 840\n"
     ]
    }
   ],
   "source": [
    "#  상세 설명보기\n",
    "try:\n",
    "    button = driver.find_element_by_xpath(\"/html/body/div[1]/div/div[4]/div/div/button\")\n",
    "    driver.execute_script(\"arguments[0].click();\", button)\n",
    "except NoSuchElementException:\n",
    "    pass\n",
    "\n",
    "\n",
    "unrefined_description = driver.find_elements_by_xpath(\"/html/body/div[1]/div/div[4]/div/div\")\n",
    "description = unrefined_description[0].get_attribute(\"innerText\")\n",
    "description.replace(\"\\n\", \"\")\n",
    "print('description 설명 :', description)\n",
    "\n",
    "if post_type ==\"아파트\":\n",
    "    unrefined_address = driver.find_elements_by_xpath('/html/body/div[1]/div/div[5]/div[5]/div/p')\n",
    "else:\n",
    "    unrefined_address = driver.find_elements_by_xpath('/html/body/div[1]/div/div[5]/div[4]/div/p')\n",
    "\n",
    "print(unrefined_address) \n",
    "addressLoad = unrefined_address[0].get_attribute(\"innerText\")\n",
    "print('address Load 도로명주소 :', addressLoad)\n"
   ]
  },
  {
   "cell_type": "code",
   "execution_count": 23,
   "metadata": {},
   "outputs": [
    {
     "name": "stdout",
     "output_type": "stream",
     "text": [
      "salesType: 매물 종류는>> 전세\n",
      "salesDepositChar:  5억\n",
      "salesdepositInt:  500000000\n",
      "salesmonthlyChar:  9000만원\n",
      "salesmonthlyInt:  90000000\n"
     ]
    }
   ],
   "source": [
    "\n",
    "unrefined_salesform = driver.find_elements_by_xpath('/html/body/div[1]/div/div[1]/div/ul/li[1]/div')\n",
    "\n",
    "salesForm = unrefined_salesform[0].get_attribute(\"innerText\")\n",
    "salesForm = salesForm.replace('/', ' ')\n",
    "salesForm = salesForm.replace('\\n', '')\n",
    "salesForm = salesForm.split()\n",
    "salesType = salesForm[0]  # sales type\n",
    "print('salesType: 매물 종류는>>', salesType)\n",
    "salesDepositChar = salesForm[1]\n",
    "if salesDepositChar.find('원'):\n",
    "    salesDepositChar = salesDepositChar.replace('원', '')\n",
    "    print('salesDepositChar: ', salesDepositChar)\n",
    "salesdepositInt = salesDepositChar.replace('억', '00000000')\n",
    "salesdepositInt = int(salesdepositInt)\n",
    "print('salesdepositInt: ', salesdepositInt)\n",
    "\n",
    "try:\n",
    "    salesmonthlyChar = salesForm[2]\n",
    "    print('salesmonthlyChar: ', salesmonthlyChar)\n",
    "    salesmonthlyInt = salesmonthlyChar.replace('만원', '0000')\n",
    "    salesmonthlyInt = int(salesmonthlyInt)\n",
    "    print('salesmonthlyInt: ', salesmonthlyInt)\n",
    "    if salesType == '전세':\n",
    "        salesdepositInt = salesdepositInt + salesmonthlyInt\n",
    "        salesDepositChar = salesDepositChar + salesmonthlyChar\n",
    "except IndexError:\n",
    "    salesmonthlyInt = 0\n",
    "    salesmonthlyChar = ''"
   ]
  },
  {
   "cell_type": "code",
   "execution_count": 24,
   "metadata": {},
   "outputs": [],
   "source": [
    "post_type = driver.find_element_by_xpath('/html/body/div[1]/div/div[1]/div/ul/li[1]/p/span')\n",
    "post_type = post_type.get_attribute('innerText')"
   ]
  },
  {
   "cell_type": "code",
   "execution_count": 25,
   "metadata": {},
   "outputs": [
    {
     "name": "stdout",
     "output_type": "stream",
     "text": [
      "floor>> 8층 \n",
      "totalFloor >>  13층\n"
     ]
    }
   ],
   "source": [
    "unrefined_floor = driver.find_elements_by_xpath('/html/body/div[1]/div/div[2]/div/ul/li[1]/div')\n",
    "total_floor = unrefined_floor[0].get_attribute('innerText')\n",
    "total_floor = total_floor.split('/')\n",
    "floor = total_floor[0]\n",
    "floor = floor\n",
    "print('floor>>', floor)\n",
    "totalFloor = total_floor[1]\n",
    "totalFloor = totalFloor.replace(' ', '')\n",
    "totalFloor = totalFloor\n",
    "print('totalFloor >> ', totalFloor)"
   ]
  },
  {
   "cell_type": "code",
   "execution_count": 26,
   "metadata": {},
   "outputs": [
    {
     "name": "stdout",
     "output_type": "stream",
     "text": [
      "area >> 84.95 / 113.5㎡\n",
      "areaChar >>  84.95 / 113.5㎡\n"
     ]
    }
   ],
   "source": [
    "unrefined_area = driver.find_elements_by_xpath('/html/body/div[1]/div/div[2]/div/ul/li[2]/div/span')\n",
    "area = unrefined_area[0].get_attribute('innerText')\n",
    "print('area >>', area)\n",
    "areaChar = area\n",
    "print('areaChar >> ', areaChar)"
   ]
  },
  {
   "cell_type": "code",
   "execution_count": 27,
   "metadata": {},
   "outputs": [],
   "source": [
    "driver.find_element_by_xpath('/html/body/div[1]/div/div[2]/div/ul/li[2]/div/button').click()"
   ]
  },
  {
   "cell_type": "code",
   "execution_count": 28,
   "metadata": {},
   "outputs": [
    {
     "name": "stdout",
     "output_type": "stream",
     "text": [
      "supplyAreaChar >>  26 / 34평\n",
      "supplyAreaInt >>  34\n"
     ]
    }
   ],
   "source": [
    "unrefined_area = driver.find_elements_by_xpath('/html/body/div[1]/div/div[2]/div/ul/li[2]/div/span')\n",
    "supplyAreaChar = unrefined_area[0].get_attribute('innerText')\n",
    "print('supplyAreaChar >> ', supplyAreaChar)\n",
    "supplyAreaInt = supplyAreaChar.split('/')\n",
    "supplyAreaInt = supplyAreaInt[1].replace('평', '')\n",
    "\n",
    "supplyAreaInt = supplyAreaInt.strip()\n",
    "\n",
    "supplyAreaInt = int(supplyAreaInt)\n",
    "print('supplyAreaInt >> ', supplyAreaInt)"
   ]
  },
  {
   "cell_type": "code",
   "execution_count": 29,
   "metadata": {},
   "outputs": [],
   "source": [
    "try:\n",
    "    if post_type=='아파트':\n",
    "        unrefined_shortRent = driver.find_elements_by_xpath(\n",
    "            '/html/body/div[1]/div/div[5]/div[3]/div/table/tbody/tr/td[5]/p')\n",
    "    else:\n",
    "        unrefined_shortRent = driver.find_elements_by_xpath(\n",
    "            '/html/body/div[1]/div/div[5]/div[2]/div/table/tbody/tr/td[5]/p')\n",
    "    shortRent = unrefined_shortRent[0].get_attribute('innerText')\n",
    "    shortRent = shortRent\n",
    "\n",
    "    if shortRent == '불가능':\n",
    "        shortRent = False\n",
    "    else:\n",
    "        shortRent = True\n",
    "        \n",
    "except IndexError:\n",
    "    print('매매 url 값 이상하게 들어갈걸?: ', url)\n",
    "    "
   ]
  },
  {
   "cell_type": "code",
   "execution_count": 30,
   "metadata": {},
   "outputs": [
    {
     "data": {
      "text/plain": [
       "False"
      ]
     },
     "execution_count": 30,
     "metadata": {},
     "output_type": "execute_result"
    }
   ],
   "source": [
    "shortRent"
   ]
  },
  {
   "cell_type": "code",
   "execution_count": 56,
   "metadata": {},
   "outputs": [],
   "source": [
    "try:\n",
    "    if post_type==\"아파트\":\n",
    "        unrefined_management = driver.find_elements_by_xpath('/html/body/div[1]/div/div[5]/div[2]/div/table/tbody/tr/td[3]')\n",
    "    else:\n",
    "        if salesType == \"매매\":\n",
    "            unrefined_management = driver.find_elements_by_xpath('/html/body/div[1]/div/div[5]/div[2]/div/table/tbody/tr/td[2]/p')\n",
    "        else:\n",
    "            unrefined_management = driver.find_elements_by_xpath('/html/body/div[1]/div/div[5]/div[2]/div/table/tbody/tr/td[3]')\n",
    "    unrefined_management = unrefined_management[0].get_attribute('innerText')\n",
    "    unrefined_management = unrefined_management.replace('\\n', '')\n",
    "    unrefined_management = unrefined_management.replace(' ', '')\n",
    "    unrefined_management = unrefined_management.replace('(', ' ')\n",
    "    unrefined_management = unrefined_management.replace(')', ' ')\n",
    "    unrefined_management = unrefined_management.replace(',', ' ')\n",
    "    unrefined_management = unrefined_management.split(' ')\n",
    "except IndexError:\n",
    "    unrefined_management = driver.find_elements_by_xpath(\n",
    "        '/html/body/div[1]/div/div[5]/div[3]/div/table/tbody/tr/td[3]'\n",
    "\n",
    "    )\n",
    "    unrefined_management = unrefined_management[0].get_attribute('innerText')\n",
    "    unrefined_management = unrefined_management.replace('\\n', '')\n",
    "    unrefined_management = unrefined_management.replace(' ', '')\n",
    "    unrefined_management = unrefined_management.replace('(', ' ')\n",
    "    unrefined_management = unrefined_management.replace(')', ' ')\n",
    "    unrefined_management = unrefined_management.replace(',', ' ')\n",
    "    unrefined_management = unrefined_management.split(' ')"
   ]
  },
  {
   "cell_type": "code",
   "execution_count": 57,
   "metadata": {},
   "outputs": [
    {
     "data": {
      "text/plain": [
       "['없음']"
      ]
     },
     "execution_count": 57,
     "metadata": {},
     "output_type": "execute_result"
    }
   ],
   "source": [
    "unrefined_management"
   ]
  },
  {
   "cell_type": "code",
   "execution_count": 32,
   "metadata": {},
   "outputs": [
    {
     "name": "stdout",
     "output_type": "stream",
     "text": [
      "unrefined_management >> ['없음']\n"
     ]
    }
   ],
   "source": [
    "print('unrefined_management >>', unrefined_management)"
   ]
  },
  {
   "cell_type": "code",
   "execution_count": 59,
   "metadata": {},
   "outputs": [],
   "source": [
    "try:\n",
    "    unrefined_living_expenses = driver.find_elements_by_xpath(\n",
    "        '/html/body/div[1]/div/div[5]/div[2]/div/div/div/label'\n",
    "    )\n",
    "    unrefined_living_expenses_detail = driver.find_elements_by_xpath(\n",
    "        '/html/body/div[1]/div/div[5]/div[2]/div/div/div/span')\n",
    "except NoSuchElementException:\n",
    "    pass\n",
    "\n",
    "try:\n",
    "    unrefined_living_expenses = unrefined_living_expenses[0].get_attribute('innerText')\n",
    "    living_expenses = unrefined_living_expenses.replace(' ', '')\n",
    "    living_expenses_detail = unrefined_living_expenses_detail[0].get_attribute('innerText')\n",
    "except IndexError:\n",
    "    unrefined_living_expenses = driver.find_elements_by_xpath(\n",
    "        '/html/body/div[1]/div/div[5]/div[3]/div/div/div/label'\n",
    "    )\n",
    "    unrefined_living_expenses_detail = driver.find_elements_by_xpath(\n",
    "        '/html/body/div[1]/div/div[5]/div[3]/div/div/div/span')\n",
    "    unrefined_living_expenses = unrefined_living_expenses[0].get_attribute('innerText')\n",
    "    living_expenses = unrefined_living_expenses.replace(' ', '')\n",
    "    living_expenses_detail = unrefined_living_expenses_detail[0].get_attribute('innerText')"
   ]
  },
  {
   "cell_type": "code",
   "execution_count": 60,
   "metadata": {},
   "outputs": [
    {
     "name": "stdout",
     "output_type": "stream",
     "text": [
      "living_expenses >>  0만원+α\n",
      "living_expenses_detail >>  (주차비)\n"
     ]
    }
   ],
   "source": [
    "print('living_expenses >> ', living_expenses)\n",
    "print('living_expenses_detail >> ', living_expenses_detail)"
   ]
  },
  {
   "cell_type": "code",
   "execution_count": null,
   "metadata": {},
   "outputs": [],
   "source": [
    "unrefined_parking = driver.find_elements_by_xpath(\n",
    "    \"/html/body/div[1]/div/div[5]/div[2]/div/table/tbody/tr/td[4]/p\"\n",
    ")\n",
    "\n",
    "try:\n",
    "    parkingDetail = unrefined_parking[0].get_attribute('innerText')\n",
    "except IndexError:\n",
    "    unrefined_parking = driver.find_elements_by_xpath(\n",
    "        '/html/body/div[1]/div/div[5]/div[3]/div/table/tbody/tr/td[4]/p'\n",
    "    )\n",
    "    parkingDetail = unrefined_parking[0].get_attribute('innerText')"
   ]
  },
  {
   "cell_type": "code",
   "execution_count": 63,
   "metadata": {},
   "outputs": [
    {
     "name": "stdout",
     "output_type": "stream",
     "text": [
      "parkingDetail >> 가능(무료)\n"
     ]
    }
   ],
   "source": [
    "print('parkingDetail >>', parkingDetail)"
   ]
  },
  {
   "cell_type": "code",
   "execution_count": 64,
   "metadata": {},
   "outputs": [
    {
     "name": "stdout",
     "output_type": "stream",
     "text": [
      "parkingTF >> True\n"
     ]
    }
   ],
   "source": [
    "if parkingDetail == '불가':\n",
    "    parkingTF = False\n",
    "else:\n",
    "    parkingTF = True\n",
    "print('parkingTF >>', parkingTF)"
   ]
  },
  {
   "cell_type": "code",
   "execution_count": 65,
   "metadata": {},
   "outputs": [],
   "source": [
    "# 아파트 입주 가능 날짜, 매매에서는 상관 없음. \n",
    "try:\n",
    "    unrefined_moveIn = driver.find_elements_by_xpath('/html/body/div[1]/div/div[2]/div/ul/li[9]/div')\n",
    "    MoveInChar = unrefined_moveIn[0].get_attribute('innerText')\n",
    "except NoSuchElementException:\n",
    "    MoveInChar = None"
   ]
  },
  {
   "cell_type": "code",
   "execution_count": 66,
   "metadata": {},
   "outputs": [
    {
     "name": "stdout",
     "output_type": "stream",
     "text": [
      "heatingType>> 개별난방\n"
     ]
    }
   ],
   "source": [
    "unrefined_heatingType = driver.find_elements_by_xpath('/html/body/div[1]/div/div[2]/div/ul/li[3]/div')\n",
    "heatingType = unrefined_heatingType[0].get_attribute('innerText')\n",
    "print('heatingType>>', heatingType)"
   ]
  },
  {
   "cell_type": "code",
   "execution_count": 67,
   "metadata": {},
   "outputs": [
    {
     "name": "stdout",
     "output_type": "stream",
     "text": [
      "가능\n",
      "pet >> True\n"
     ]
    }
   ],
   "source": [
    "if post_type =='아파트':\n",
    "    unrefined_pet = driver.find_elements_by_xpath('/html/body/div[1]/div/div[2]/div/ul/li[7]/div')\n",
    "else:\n",
    "    unrefined_pet = driver.find_elements_by_xpath('/html/body/div[1]/div/div[2]/div/ul/li[6]/div')\n",
    "pet = unrefined_pet[0].get_attribute('innerText')\n",
    "print(pet)\n",
    "if pet == \"불가능\":\n",
    "    pet = False\n",
    "else:\n",
    "    pet = True\n",
    "print('pet >>', pet)"
   ]
  },
  {
   "cell_type": "code",
   "execution_count": 73,
   "metadata": {},
   "outputs": [
    {
     "name": "stdout",
     "output_type": "stream",
     "text": [
      "None\n",
      "elevator >>  True\n"
     ]
    },
    {
     "data": {
      "text/plain": [
       "'114세대'"
      ]
     },
     "execution_count": 73,
     "metadata": {},
     "output_type": "execute_result"
    }
   ],
   "source": [
    "if post_type =='아파트':\n",
    "    totalCitizen = driver.find_element_by_xpath('/html/body/div[1]/div/div[2]/div/ul/li[5]/div')\n",
    "    totalCitizen = totalCitizen.get_attribute('innerText')\n",
    "    elevator = None\n",
    "else:\n",
    "    elevator = driver.find_elements_by_xpath('/html/body/div[1]/div/div[2]/div/ul/li[5]/div')\n",
    "    elevator = elevator[0].get_attribute('innerText')\n",
    "\n",
    "print(elevator)\n",
    "if elevator == \"없음\":\n",
    "    elevator = False\n",
    "else:\n",
    "    elevator = True\n",
    "print('elevator >> ', elevator)\n",
    "totalCitizen"
   ]
  },
  {
   "cell_type": "code",
   "execution_count": 74,
   "metadata": {},
   "outputs": [],
   "source": [
    "if post_type =='아파트':\n",
    "    parkingAccumulation = driver.find_element_by_xpath('/html/body/div[1]/div/div[2]/div/ul/li[6]/div')\n",
    "    parkingAccumulation = parkingAccumulation.get_attribute('innerText')\n",
    "else:\n",
    "    if salesType == '매매':\n",
    "        unrefined_veranda = driver.find_element_by_xpath('/html/body/div[1]/div/div[2]/div/ul/li[6]/div')\n",
    "\n",
    "        veranda = unrefined_veranda.get_attribute('innerText')\n",
    "    else:\n",
    "        pet = driver.find_element_by_xpath('/html/body/div[1]/div/div[2]/div/ul/li[6]/div')\n",
    "        pet = pet.get_atttribute('innerText')"
   ]
  },
  {
   "cell_type": "code",
   "execution_count": 75,
   "metadata": {},
   "outputs": [
    {
     "data": {
      "text/plain": [
       "'1.3대'"
      ]
     },
     "execution_count": 75,
     "metadata": {},
     "output_type": "execute_result"
    }
   ],
   "source": [
    "parkingAccumulation"
   ]
  },
  {
   "cell_type": "code",
   "execution_count": 76,
   "metadata": {},
   "outputs": [
    {
     "name": "stdout",
     "output_type": "stream",
     "text": [
      "아파트\n",
      "2009.02 준공\n"
     ]
    }
   ],
   "source": [
    "print(post_type)\n",
    "if post_type =='아파트':\n",
    "    complete = driver.find_element_by_xpath('/html/body/div[1]/div/div[2]/div/ul/li[4]/div')\n",
    "    complete = complete.get_attribute('innerText')\n",
    "    builtIn = None\n",
    "else:\n",
    "    unrefined_builtIn = driver.find_elements_by_xpath('/html/body/div[1]/div/div[2]/div/ul/li[4]/div')\n",
    "    builtIn =unrefined_builtIn[0].get_attribute('innerText')\n",
    "print(complete)\n",
    "if builtIn == \"아님\":\n",
    "    builtIn = False\n",
    "else:\n",
    "    builtIn = True\n"
   ]
  },
  {
   "cell_type": "code",
   "execution_count": 77,
   "metadata": {},
   "outputs": [
    {
     "name": "stdout",
     "output_type": "stream",
     "text": [
      "가능\n"
     ]
    }
   ],
   "source": [
    "try:\n",
    "    depositLoan = driver.find_element_by_xpath('/html/body/div[1]/div/div[2]/div/ul/li[8]/div')\n",
    "    depositLoan = depositLoan.get_attribute('innerText')\n",
    "except NoSuchElementException:\n",
    "    depositLoan = False\n",
    "print(depositLoan)"
   ]
  },
  {
   "cell_type": "code",
   "execution_count": 78,
   "metadata": {},
   "outputs": [],
   "source": [
    "unrefined_veranda = driver.find_elements_by_xpath('/html/body/div[1]/div/div[2]/div/ul/li[7]/div')\n",
    "veranda = unrefined_veranda[0].get_attribute('innerText')\n",
    "if veranda == \"없음\":\n",
    "    veranda = False\n",
    "else:\n",
    "    veranda = True\n",
    "veranda = veranda"
   ]
  },
  {
   "cell_type": "code",
   "execution_count": 79,
   "metadata": {},
   "outputs": [
    {
     "name": "stdout",
     "output_type": "stream",
     "text": [
      "True\n"
     ]
    }
   ],
   "source": [
    "print(veranda)"
   ]
  },
  {
   "cell_type": "code",
   "execution_count": 80,
   "metadata": {},
   "outputs": [
    {
     "name": "stdout",
     "output_type": "stream",
     "text": [
      "True\n"
     ]
    }
   ],
   "source": [
    "unrefined_depositLoan = driver.find_elements_by_xpath('/html/body/div[1]/div/div[2]/div/ul/li[8]/div')\n",
    "depositLoan = unrefined_depositLoan[0].get_attribute('innerText')\n",
    "\n",
    "if depositLoan == \"가능\":\n",
    "    depositLoan = True\n",
    "else:\n",
    "    depositLoan = False\n",
    "print(depositLoan)"
   ]
  },
  {
   "cell_type": "code",
   "execution_count": 89,
   "metadata": {},
   "outputs": [
    {
     "name": "stdout",
     "output_type": "stream",
     "text": [
      "[]\n",
      "[]\n"
     ]
    }
   ],
   "source": [
    "### 관리비 MTM 관리비 총액, 상세 내역 생성\n",
    "# 관리비 금액\n",
    "print(unrefined_management)\n",
    "try:\n",
    "    managementPay = unrefined_management.pop(0)\n",
    "    if managementPay.find('만원'):\n",
    "        managementPay = managementPay.replace('만원', ' ')\n",
    "    if managementPay == '없음':\n",
    "        managementPay = 0\n",
    "        managementPay = int(managementPay)\n",
    "    else:\n",
    "        managementPay = 0\n",
    "except IndexError:\n",
    "    pass\n",
    "totalFee = managementPay\n",
    "\n",
    "print(unrefined_management)"
   ]
  },
  {
   "cell_type": "code",
   "execution_count": 93,
   "metadata": {},
   "outputs": [
    {
     "ename": "WebDriverException",
     "evalue": "Message: chrome not reachable\n  (Session info: chrome=80.0.3987.163)\n  (Driver info: chromedriver=2.44.609545 (c2f88692e98ce7233d2df7c724465ecacfe74df5),platform=Mac OS X 10.14.4 x86_64)\n",
     "traceback": [
      "\u001b[0;31m---------------------------------------------------------------------------\u001b[0m",
      "\u001b[0;31mWebDriverException\u001b[0m                        Traceback (most recent call last)",
      "\u001b[0;32m<ipython-input-93-fb4ffa8e80ee>\u001b[0m in \u001b[0;36m<module>\u001b[0;34m\u001b[0m\n\u001b[1;32m      1\u001b[0m \u001b[0;32mif\u001b[0m \u001b[0mpost_type\u001b[0m \u001b[0;34m==\u001b[0m \u001b[0;34m\"아파트\"\u001b[0m\u001b[0;34m:\u001b[0m\u001b[0;34m\u001b[0m\u001b[0;34m\u001b[0m\u001b[0m\n\u001b[0;32m----> 2\u001b[0;31m     \u001b[0munrefined_securitySafety\u001b[0m \u001b[0;34m=\u001b[0m \u001b[0mdriver\u001b[0m\u001b[0;34m.\u001b[0m\u001b[0mfind_elements_by_xpath\u001b[0m\u001b[0;34m(\u001b[0m\u001b[0;34m'/html/body/div[1]/div/div[5]/div[4]/div[2]/div'\u001b[0m\u001b[0;34m)\u001b[0m\u001b[0;34m\u001b[0m\u001b[0;34m\u001b[0m\u001b[0m\n\u001b[0m",
      "\u001b[0;32m/usr/local/var/pyenv/versions/3.7.4/envs/fc-dabang/lib/python3.7/site-packages/selenium/webdriver/remote/webdriver.py\u001b[0m in \u001b[0;36mfind_elements_by_xpath\u001b[0;34m(self, xpath)\u001b[0m\n\u001b[1;32m    408\u001b[0m             \u001b[0melements\u001b[0m \u001b[0;34m=\u001b[0m \u001b[0mdriver\u001b[0m\u001b[0;34m.\u001b[0m\u001b[0mfind_elements_by_xpath\u001b[0m\u001b[0;34m(\u001b[0m\u001b[0;34m\"//div[contains(@class, 'foo')]\"\u001b[0m\u001b[0;34m)\u001b[0m\u001b[0;34m\u001b[0m\u001b[0;34m\u001b[0m\u001b[0m\n\u001b[1;32m    409\u001b[0m         \"\"\"\n\u001b[0;32m--> 410\u001b[0;31m         \u001b[0;32mreturn\u001b[0m \u001b[0mself\u001b[0m\u001b[0;34m.\u001b[0m\u001b[0mfind_elements\u001b[0m\u001b[0;34m(\u001b[0m\u001b[0mby\u001b[0m\u001b[0;34m=\u001b[0m\u001b[0mBy\u001b[0m\u001b[0;34m.\u001b[0m\u001b[0mXPATH\u001b[0m\u001b[0;34m,\u001b[0m \u001b[0mvalue\u001b[0m\u001b[0;34m=\u001b[0m\u001b[0mxpath\u001b[0m\u001b[0;34m)\u001b[0m\u001b[0;34m\u001b[0m\u001b[0;34m\u001b[0m\u001b[0m\n\u001b[0m\u001b[1;32m    411\u001b[0m \u001b[0;34m\u001b[0m\u001b[0m\n\u001b[1;32m    412\u001b[0m     \u001b[0;32mdef\u001b[0m \u001b[0mfind_element_by_link_text\u001b[0m\u001b[0;34m(\u001b[0m\u001b[0mself\u001b[0m\u001b[0;34m,\u001b[0m \u001b[0mlink_text\u001b[0m\u001b[0;34m)\u001b[0m\u001b[0;34m:\u001b[0m\u001b[0;34m\u001b[0m\u001b[0;34m\u001b[0m\u001b[0m\n",
      "\u001b[0;32m/usr/local/var/pyenv/versions/3.7.4/envs/fc-dabang/lib/python3.7/site-packages/selenium/webdriver/remote/webdriver.py\u001b[0m in \u001b[0;36mfind_elements\u001b[0;34m(self, by, value)\u001b[0m\n\u001b[1;32m   1005\u001b[0m         return self.execute(Command.FIND_ELEMENTS, {\n\u001b[1;32m   1006\u001b[0m             \u001b[0;34m'using'\u001b[0m\u001b[0;34m:\u001b[0m \u001b[0mby\u001b[0m\u001b[0;34m,\u001b[0m\u001b[0;34m\u001b[0m\u001b[0;34m\u001b[0m\u001b[0m\n\u001b[0;32m-> 1007\u001b[0;31m             'value': value})['value'] or []\n\u001b[0m\u001b[1;32m   1008\u001b[0m \u001b[0;34m\u001b[0m\u001b[0m\n\u001b[1;32m   1009\u001b[0m     \u001b[0;34m@\u001b[0m\u001b[0mproperty\u001b[0m\u001b[0;34m\u001b[0m\u001b[0;34m\u001b[0m\u001b[0m\n",
      "\u001b[0;32m/usr/local/var/pyenv/versions/3.7.4/envs/fc-dabang/lib/python3.7/site-packages/selenium/webdriver/remote/webdriver.py\u001b[0m in \u001b[0;36mexecute\u001b[0;34m(self, driver_command, params)\u001b[0m\n\u001b[1;32m    319\u001b[0m         \u001b[0mresponse\u001b[0m \u001b[0;34m=\u001b[0m \u001b[0mself\u001b[0m\u001b[0;34m.\u001b[0m\u001b[0mcommand_executor\u001b[0m\u001b[0;34m.\u001b[0m\u001b[0mexecute\u001b[0m\u001b[0;34m(\u001b[0m\u001b[0mdriver_command\u001b[0m\u001b[0;34m,\u001b[0m \u001b[0mparams\u001b[0m\u001b[0;34m)\u001b[0m\u001b[0;34m\u001b[0m\u001b[0;34m\u001b[0m\u001b[0m\n\u001b[1;32m    320\u001b[0m         \u001b[0;32mif\u001b[0m \u001b[0mresponse\u001b[0m\u001b[0;34m:\u001b[0m\u001b[0;34m\u001b[0m\u001b[0;34m\u001b[0m\u001b[0m\n\u001b[0;32m--> 321\u001b[0;31m             \u001b[0mself\u001b[0m\u001b[0;34m.\u001b[0m\u001b[0merror_handler\u001b[0m\u001b[0;34m.\u001b[0m\u001b[0mcheck_response\u001b[0m\u001b[0;34m(\u001b[0m\u001b[0mresponse\u001b[0m\u001b[0;34m)\u001b[0m\u001b[0;34m\u001b[0m\u001b[0;34m\u001b[0m\u001b[0m\n\u001b[0m\u001b[1;32m    322\u001b[0m             response['value'] = self._unwrap_value(\n\u001b[1;32m    323\u001b[0m                 response.get('value', None))\n",
      "\u001b[0;32m/usr/local/var/pyenv/versions/3.7.4/envs/fc-dabang/lib/python3.7/site-packages/selenium/webdriver/remote/errorhandler.py\u001b[0m in \u001b[0;36mcheck_response\u001b[0;34m(self, response)\u001b[0m\n\u001b[1;32m    240\u001b[0m                 \u001b[0malert_text\u001b[0m \u001b[0;34m=\u001b[0m \u001b[0mvalue\u001b[0m\u001b[0;34m[\u001b[0m\u001b[0;34m'alert'\u001b[0m\u001b[0;34m]\u001b[0m\u001b[0;34m.\u001b[0m\u001b[0mget\u001b[0m\u001b[0;34m(\u001b[0m\u001b[0;34m'text'\u001b[0m\u001b[0;34m)\u001b[0m\u001b[0;34m\u001b[0m\u001b[0;34m\u001b[0m\u001b[0m\n\u001b[1;32m    241\u001b[0m             \u001b[0;32mraise\u001b[0m \u001b[0mexception_class\u001b[0m\u001b[0;34m(\u001b[0m\u001b[0mmessage\u001b[0m\u001b[0;34m,\u001b[0m \u001b[0mscreen\u001b[0m\u001b[0;34m,\u001b[0m \u001b[0mstacktrace\u001b[0m\u001b[0;34m,\u001b[0m \u001b[0malert_text\u001b[0m\u001b[0;34m)\u001b[0m\u001b[0;34m\u001b[0m\u001b[0;34m\u001b[0m\u001b[0m\n\u001b[0;32m--> 242\u001b[0;31m         \u001b[0;32mraise\u001b[0m \u001b[0mexception_class\u001b[0m\u001b[0;34m(\u001b[0m\u001b[0mmessage\u001b[0m\u001b[0;34m,\u001b[0m \u001b[0mscreen\u001b[0m\u001b[0;34m,\u001b[0m \u001b[0mstacktrace\u001b[0m\u001b[0;34m)\u001b[0m\u001b[0;34m\u001b[0m\u001b[0;34m\u001b[0m\u001b[0m\n\u001b[0m\u001b[1;32m    243\u001b[0m \u001b[0;34m\u001b[0m\u001b[0m\n\u001b[1;32m    244\u001b[0m     \u001b[0;32mdef\u001b[0m \u001b[0m_value_or_default\u001b[0m\u001b[0;34m(\u001b[0m\u001b[0mself\u001b[0m\u001b[0;34m,\u001b[0m \u001b[0mobj\u001b[0m\u001b[0;34m,\u001b[0m \u001b[0mkey\u001b[0m\u001b[0;34m,\u001b[0m \u001b[0mdefault\u001b[0m\u001b[0;34m)\u001b[0m\u001b[0;34m:\u001b[0m\u001b[0;34m\u001b[0m\u001b[0;34m\u001b[0m\u001b[0m\n",
      "\u001b[0;31mWebDriverException\u001b[0m: Message: chrome not reachable\n  (Session info: chrome=80.0.3987.163)\n  (Driver info: chromedriver=2.44.609545 (c2f88692e98ce7233d2df7c724465ecacfe74df5),platform=Mac OS X 10.14.4 x86_64)\n"
     ],
     "output_type": "error"
    }
   ],
   "source": [
    "if post_type == \"아파트\":\n",
    "    unrefined_securitySafety = driver.find_elements_by_xpath('/html/body/div[1]/div/div[5]/div[4]/div[2]/div')"
   ]
  },
  {
   "cell_type": "code",
   "execution_count": 82,
   "metadata": {},
   "outputs": [
    {
     "ename": "NameError",
     "evalue": "name 'OptionItem' is not defined",
     "traceback": [
      "\u001b[0;31m---------------------------------------------------------------------------\u001b[0m",
      "\u001b[0;31mNameError\u001b[0m                                 Traceback (most recent call last)",
      "\u001b[0;32m<ipython-input-82-6f95da7d27b0>\u001b[0m in \u001b[0;36m<module>\u001b[0;34m\u001b[0m\n\u001b[1;32m     44\u001b[0m \u001b[0moption_list\u001b[0m \u001b[0;34m=\u001b[0m \u001b[0;34m[\u001b[0m\u001b[0;34m]\u001b[0m\u001b[0;34m\u001b[0m\u001b[0;34m\u001b[0m\u001b[0m\n\u001b[1;32m     45\u001b[0m \u001b[0;32mfor\u001b[0m \u001b[0mobj\u001b[0m \u001b[0;32min\u001b[0m \u001b[0moption\u001b[0m\u001b[0;34m:\u001b[0m\u001b[0;34m\u001b[0m\u001b[0;34m\u001b[0m\u001b[0m\n\u001b[0;32m---> 46\u001b[0;31m     instance = OptionItem.objects.get_or_create(\n\u001b[0m\u001b[1;32m     47\u001b[0m         \u001b[0mname\u001b[0m\u001b[0;34m=\u001b[0m\u001b[0mobj\u001b[0m\u001b[0;34m,\u001b[0m\u001b[0;34m\u001b[0m\u001b[0;34m\u001b[0m\u001b[0m\n\u001b[1;32m     48\u001b[0m     )\n",
      "\u001b[0;31mNameError\u001b[0m: name 'OptionItem' is not defined"
     ],
     "output_type": "error"
    }
   ],
   "source": [
    "# 관리비 디테일\n",
    "admin_list = [item for item in unrefined_management if not item == '']\n",
    "admin_instances = []\n",
    "for ins in admin_list:\n",
    "    obj = AdministrativeDetail.objects.get_or_create(name=ins)\n",
    "    admin_instances.append(obj)\n",
    "\n",
    "# 안전 시설 인스턴스 생성 MTM\n",
    "try:\n",
    "    unrefined_securitySafety = driver.find_elements_by_xpath(\n",
    "        '/html/body/div[1]/div/div[5]/div[3]/div[2]/div')\n",
    "    security = unrefined_securitySafety[0].get_attribute('innerText')\n",
    "    security = security.split('\\n\\n')\n",
    "# security MTM\n",
    "except IndexError:\n",
    "    pass\n",
    "# 안전 시설 obj 생성\n",
    "security_list = []\n",
    "try:\n",
    "    for obj in security:\n",
    "        instance = SecuritySafetyFacilities.objects.get_or_create(\n",
    "            name=obj,\n",
    "        )\n",
    "        security_list.append(instance[0])\n",
    "except UnboundLocalError:\n",
    "    pass\n",
    "except NameError:\n",
    "    pass\n",
    "\n",
    "# option은 옵션테이블 MTM\n",
    "try:\n",
    "    unrefined_option = driver.find_elements_by_xpath('/html/body/div[1]/div/div[5]/div[3]/div[1]/div')\n",
    "except NoSuchElementException:\n",
    "    pass\n",
    "\n",
    "unrefined_option = unrefined_option[0].get_attribute('innerText')\n",
    "unrefined_option = unrefined_option.split('\\n\\n')\n",
    "option = unrefined_option\n",
    "option_ins_list = []\n",
    "for ins in option:\n",
    "    option_ins_list.append(ins)\n",
    "\n",
    "# 옵션 시설 인스턴스 생성 MTM\n",
    "option_list = []\n",
    "for obj in option:\n",
    "    instance = OptionItem.objects.get_or_create(\n",
    "        name=obj,\n",
    "    )\n",
    "    option_list.append(instance[0])\n",
    "\n",
    "try:\n",
    "    button = driver.find_element_by_xpath(\"/html/body/div[1]/div/div[1]/div/ul/li[4]/button\")\n",
    "    driver.execute_script(\"arguments[0].click();\", button)\n",
    "except NoSuchElementException:\n",
    "    print('중개소 없음.')\n",
    "\n",
    "try:\n",
    "    unrefined_name = driver.find_elements_by_xpath('/html/body/div[4]/div/div/div/div[1]/div[1]/h1')\n",
    "    name = unrefined_name[0].get_attribute('innerText')\n",
    "    unrefined_address = driver.find_elements_by_xpath('/html/body/div[4]/div/div/div/div[1]/div[1]/p')\n",
    "    address = unrefined_address[0].get_attribute('innerText')\n",
    "    unrefined_manager = driver.find_elements_by_xpath('/html/body/div[4]/div/div/div/div[1]/div[2]/p[1]/font')\n",
    "    manager = unrefined_manager[0].get_attribute('innerText')\n",
    "    unrefined_tel = driver.find_elements_by_xpath('/html/body/div[4]/div/div/div/div[1]/div[2]/p[2]/font')\n",
    "    tel = unrefined_tel[0].get_attribute('innerText')\n",
    "except IndexError:\n",
    "    unrefined_name = driver.find_elements_by_xpath('/html/body/div[4]/div/div/div/div/div[2]/p[1]')\n",
    "    name = unrefined_name[0].get_attribute('innerText')\n",
    "    unrefined_address = driver.find_elements_by_xpath('/html/body/div[4]/div/div/div/div/div[2]/p[2]')\n",
    "    address = unrefined_address[0].get_attribute('innerText')"
   ]
  },
  {
   "cell_type": "code",
   "execution_count": null,
   "metadata": {},
   "outputs": [],
   "source": [
    "try:\n",
    "    unrefined_living_expenses = driver.find_elements_by_xpath(\n",
    "        '/html/body/div[1]/div/div[5]/div[2]/div/div/div/label'\n",
    "    )\n",
    "    unrefined_living_expenses_detail = driver.find_elements_by_xpath(\n",
    "        '/html/body/div[1]/div/div[5]/div[2]/div/div/div/span')\n",
    "except NoSuchElementException:\n",
    "    pass\n",
    "\n",
    "try:\n",
    "    unrefined_living_expenses = unrefined_living_expenses[0].get_attribute('innerText')\n",
    "    living_expenses = unrefined_living_expenses.replace(' ', '')\n",
    "    living_expenses_detail = unrefined_living_expenses_detail[0].get_attribute('innerText')\n",
    "except IndexError:\n",
    "    unrefined_living_expenses = driver.find_elements_by_xpath(\n",
    "        '/html/body/div[1]/div/div[5]/div[3]/div/div/div/label'\n",
    "    )\n",
    "    unrefined_living_expenses_detail = driver.find_elements_by_xpath(\n",
    "        '/html/body/div[1]/div/div[5]/div[3]/div/div/div/span')\n",
    "    unrefined_living_expenses = unrefined_living_expenses[0].get_attribute('innerText')\n",
    "    living_expenses = unrefined_living_expenses.replace(' ', '')\n",
    "    living_expenses_detail = unrefined_living_expenses_detail[0].get_attribute('innerText')"
   ]
  }
 ],
 "metadata": {
  "kernelspec": {
   "display_name": "Python 3",
   "language": "python",
   "name": "python3"
  },
  "language_info": {
   "codemirror_mode": {
    "name": "ipython",
    "version": 3
   },
   "file_extension": ".py",
   "mimetype": "text/x-python",
   "name": "python",
   "nbconvert_exporter": "python",
   "pygments_lexer": "ipython3",
   "version": "3.7.4"
  }
 },
 "nbformat": 4,
 "nbformat_minor": 4
}
