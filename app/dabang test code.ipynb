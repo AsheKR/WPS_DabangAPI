{
 "cells": [
  {
   "cell_type": "markdown",
   "metadata": {},
   "source": [
    "# 이게 크롤링 하다가 지금 매매랑 전세 월세의 코드가 다르다.\n",
    "# 이거 찾아는 보겠는데 혹시 ios 단에서 테스트 할 때 값 이상하면 말좀 해달라.\n",
    "# 이거 매매 종류 볼때 매매랑 전세/월세 다르면 코드 다르게 돌리자\n",
    "# 이거 지금 성수에 매매가 5개인데 하나만 달라서 이거만 따로 빼면 될듯"
   ]
  },
  {
   "cell_type": "code",
   "execution_count": 1,
   "metadata": {},
   "outputs": [],
   "source": [
    "from selenium import webdriver\n",
    "dabang_url ='https://www.dabangapp.com/search#/map?filters=%7B%22multi_room_type%22%3A%5B2%2C1%2C0%5D%2C%22selling_type%22%3A%5B0%2C1%2C2%5D%2C%22deposit_range%22%3A%5B0%2C999999%5D%2C%22price_range%22%3A%5B0%2C999999%5D%2C%22trade_range%22%3A%5B0%2C999999%5D%2C%22maintenance_cost_range%22%3A%5B0%2C999999%5D%2C%22include_maintenance_option1%22%3Atrue%2C%22room_size%22%3A%5B0%2C999999%5D%2C%22supply_space_range%22%3A%5B0%2C999999%5D%2C%22room_floor_multi%22%3A%5B1%2C2%2C3%2C4%2C7%2C6%2C5%5D%2C%22division%22%3Afalse%2C%22duplex%22%3Afalse%2C%22room_type%22%3A%5B1%2C2%5D%2C%22enter_date_range%22%3A%5B0%2C999999%5D%2C%22parking_average_range%22%3A%5B0%2C999999%5D%2C%22household_num_range%22%3A%5B0%2C999999%5D%2C%22parking%22%3Afalse%2C%22animal%22%3Afalse%2C%22short_lease%22%3Afalse%2C%22full_option%22%3Afalse%2C%22built_in%22%3Afalse%2C%22elevator%22%3Afalse%2C%22balcony%22%3Afalse%2C%22loan%22%3Afalse%2C%22safety%22%3Afalse%2C%22pano%22%3Afalse%2C%22deal_type%22%3A%5B0%2C1%5D%7D&position=%7B%22location%22%3A%5B%5B127.03782637531295%2C37.518247186167436%5D%2C%5B127.07787253873349%2C37.56435875152705%5D%5D%2C%22center%22%3A%5B127.05784328891325%2C37.541304716670695%5D%2C%22zoom%22%3A6%7D&search=%7B%22id%22%3A%2211200114%22%2C%22type%22%3A%22region%22%2C%22name%22%3A%22%EC%84%B1%EC%88%98%EB%8F%991%EA%B0%80%22%7D&tab=all'"
   ]
  },
  {
   "cell_type": "markdown",
   "metadata": {},
   "source": [
    "## start staticmethod \n",
    "    - SocialLogin.start()\n",
    "    - SalesForm.start()"
   ]
  },
  {
   "cell_type": "code",
   "execution_count": 2,
   "metadata": {},
   "outputs": [],
   "source": [
    "driver = webdriver.Chrome('/Users/mac/projects/ChromeWebDriver/chromedriver')\n",
    "driver.implicitly_wait(3)"
   ]
  },
  {
   "cell_type": "code",
   "execution_count": 3,
   "metadata": {},
   "outputs": [],
   "source": [
    "driver.get(dabang_url)\n",
    "seongsoo_1dong_detail_list = driver.find_elements_by_xpath(\"/html/body/div[1]/div/div[2]/div[1]/div/div[2]/ul/li/div/a\")"
   ]
  },
  {
   "cell_type": "code",
   "execution_count": 4,
   "metadata": {},
   "outputs": [
    {
     "data": {
      "text/plain": [
       "'https://www.dabangapp.com/room/5e61eb268c45fb4368c1a174'"
      ]
     },
     "execution_count": 4,
     "metadata": {},
     "output_type": "execute_result"
    }
   ],
   "source": [
    "seongsoo_1dong_detail_list[0].get_attribute(\"href\")"
   ]
  },
  {
   "cell_type": "code",
   "execution_count": 10,
   "metadata": {},
   "outputs": [],
   "source": [
    "bang_url_list = []"
   ]
  },
  {
   "cell_type": "code",
   "execution_count": 11,
   "metadata": {},
   "outputs": [],
   "source": [
    "for url in seongsoo_1dong_detail_list:\n",
    "    bang_url_list.append(url.get_attribute('href'))"
   ]
  },
  {
   "cell_type": "code",
   "execution_count": 7,
   "metadata": {},
   "outputs": [],
   "source": [
    "# [driver.get(url) for url in bang_url_list]"
   ]
  },
  {
   "cell_type": "markdown",
   "metadata": {},
   "source": [
    "# test code start"
   ]
  },
  {
   "cell_type": "code",
   "execution_count": 388,
   "metadata": {},
   "outputs": [],
   "source": [
    "from selenium.common.exceptions import NoSuchElementException"
   ]
  },
  {
   "cell_type": "code",
   "execution_count": 513,
   "metadata": {},
   "outputs": [],
   "source": [
    "driver.get(bang_url_list[11])"
   ]
  },
  {
   "cell_type": "code",
   "execution_count": 447,
   "metadata": {},
   "outputs": [],
   "source": [
    "import time\n",
    "time.sleep(5)\n",
    "# 이거 안하면 아직 페이지 로딩 안되서 에러남 버튼 아직 없음"
   ]
  },
  {
   "cell_type": "code",
   "execution_count": 448,
   "metadata": {},
   "outputs": [],
   "source": [
    "try:\n",
    "    button = driver.find_element_by_xpath(\"/html/body/div[1]/div/div[4]/div/div/button\")\n",
    "    driver.execute_script(\"arguments[0].click();\", button)\n",
    "except NoSuchElementException:\n",
    "    pass    "
   ]
  },
  {
   "cell_type": "code",
   "execution_count": 449,
   "metadata": {},
   "outputs": [],
   "source": [
    "unrefined_description = driver.find_elements_by_xpath(\"/html/body/div[1]/div/div[4]/div/div\")"
   ]
  },
  {
   "cell_type": "code",
   "execution_count": 450,
   "metadata": {},
   "outputs": [],
   "source": [
    "description = unrefined_description[0].get_attribute(\"innerText\")"
   ]
  },
  {
   "cell_type": "code",
   "execution_count": 451,
   "metadata": {},
   "outputs": [
    {
     "data": {
      "text/plain": [
       "'인기 많은 투룸!\\n★ 여자 둘이 살기 좋은 투룸 월세! (여자만 받아요~! 반지하부터 모두 여자만 살아요)\\n\\n\\n★ 뚝섬역, 서울숲역 모두 7~8분 거리 (딱 가운데 위치)\\n\\n\\n★ 조용한 서울숲 옆에 1층집입니당\\n\\n\\n★ 집 근처가 인스타에서 핫한 카페, 맛집 있어요\\n[ ㅊa, 제스티살룬 (30초컷), 모멘토 (30초컷), 트와블루, 서울숲 공원, 빵의정석, 쏘마이피자 등 ]\\n\\n\\n★ 주변에 은행, 주민센터, 병원 , 성동구민체육센터 모두 10분 거리!!\\n\\n\\n★ 출근할 때 공원 가로질러서 가서 상쾌함\\n\\n\\n★ 퇴근할 때 카페거리고 여성안심 가로등 같은거 있어서 안무서워요\\n\\n\\n★ 주변이 카페여서 밤에 무지무지 조용해요\\n\\n\\n★ 전등, 보일러 등 집에 필요한 사소한거 고장나면 주인분이 다 고쳐주심!!\\n\\n\\n★ 집 볼 수 있는 시간은 평일엔 7시반 이후!\\n주말엔 시간 맞춰보면 돼요\\n\\n\\n★ 베란다 있어서 여름에 빨래 널기 좋아요\\n\\n\\n★ 애완동물 안돼요\\n\\n\\n★ 옵션은 다 가져갈거여서 챙겨와야 합니당\\n접기'"
      ]
     },
     "execution_count": 451,
     "metadata": {},
     "output_type": "execute_result"
    }
   ],
   "source": [
    "description"
   ]
  },
  {
   "cell_type": "code",
   "execution_count": 452,
   "metadata": {
    "scrolled": true
   },
   "outputs": [
    {
     "data": {
      "text/plain": [
       "'인기 많은 투룸!★ 여자 둘이 살기 좋은 투룸 월세! (여자만 받아요~! 반지하부터 모두 여자만 살아요)★ 뚝섬역, 서울숲역 모두 7~8분 거리 (딱 가운데 위치)★ 조용한 서울숲 옆에 1층집입니당★ 집 근처가 인스타에서 핫한 카페, 맛집 있어요[ ㅊa, 제스티살룬 (30초컷), 모멘토 (30초컷), 트와블루, 서울숲 공원, 빵의정석, 쏘마이피자 등 ]★ 주변에 은행, 주민센터, 병원 , 성동구민체육센터 모두 10분 거리!!★ 출근할 때 공원 가로질러서 가서 상쾌함★ 퇴근할 때 카페거리고 여성안심 가로등 같은거 있어서 안무서워요★ 주변이 카페여서 밤에 무지무지 조용해요★ 전등, 보일러 등 집에 필요한 사소한거 고장나면 주인분이 다 고쳐주심!!★ 집 볼 수 있는 시간은 평일엔 7시반 이후!주말엔 시간 맞춰보면 돼요★ 베란다 있어서 여름에 빨래 널기 좋아요★ 애완동물 안돼요★ 옵션은 다 가져갈거여서 챙겨와야 합니당접기'"
      ]
     },
     "execution_count": 452,
     "metadata": {},
     "output_type": "execute_result"
    }
   ],
   "source": [
    "description.replace(\"\\n\", \"\")"
   ]
  },
  {
   "cell_type": "markdown",
   "metadata": {},
   "source": [
    "# 이건 데이터 어떻게 념겨줄건지 이야기 할 때 내가 안바꾸고 거기서 바꾸는게 더 편하지 않겠냐 물어보기 -- 위에 출력한 텍스트 두개"
   ]
  },
  {
   "cell_type": "code",
   "execution_count": 453,
   "metadata": {},
   "outputs": [
    {
     "data": {
      "text/plain": [
       "'서울특별시 성동구 성수동1가'"
      ]
     },
     "execution_count": 453,
     "metadata": {},
     "output_type": "execute_result"
    }
   ],
   "source": [
    "unrefined_address = driver.find_elements_by_xpath('/html/body/div[1]/div/div[5]/div/div/p')\n",
    "address = unrefined_address[0].get_attribute(\"innerText\")\n",
    "# 이건 테이블 분리 안하고 그냥 여기에 넣으면 될 듯 동 단위여서 의미가 없음\n",
    "# 테이블 수정함 PostAddress\n",
    "address"
   ]
  },
  {
   "cell_type": "code",
   "execution_count": 454,
   "metadata": {},
   "outputs": [
    {
     "data": {
      "text/plain": [
       "'월세 2000/55\\n만원'"
      ]
     },
     "execution_count": 454,
     "metadata": {},
     "output_type": "execute_result"
    }
   ],
   "source": [
    "unrefined_salesform = driver.find_elements_by_xpath('/html/body/div[1]/div/div[1]/div/ul/li[1]/div')\n",
    "salesForm = unrefined_salesform[0].get_attribute(\"innerText\")\n",
    "salesForm"
   ]
  },
  {
   "cell_type": "code",
   "execution_count": 455,
   "metadata": {},
   "outputs": [],
   "source": [
    "salesForm = salesForm.replace('/', ' ')"
   ]
  },
  {
   "cell_type": "code",
   "execution_count": 456,
   "metadata": {},
   "outputs": [],
   "source": [
    "salesForm = salesForm.replace('\\n', '')"
   ]
  },
  {
   "cell_type": "code",
   "execution_count": 457,
   "metadata": {},
   "outputs": [
    {
     "data": {
      "text/plain": [
       "'월세 2000 55만원'"
      ]
     },
     "execution_count": 457,
     "metadata": {},
     "output_type": "execute_result"
    }
   ],
   "source": [
    "salesForm"
   ]
  },
  {
   "cell_type": "code",
   "execution_count": 458,
   "metadata": {},
   "outputs": [],
   "source": [
    "salesForm = salesForm.split()"
   ]
  },
  {
   "cell_type": "code",
   "execution_count": 459,
   "metadata": {},
   "outputs": [
    {
     "data": {
      "text/plain": [
       "['월세', '2000', '55만원']"
      ]
     },
     "execution_count": 459,
     "metadata": {},
     "output_type": "execute_result"
    }
   ],
   "source": [
    "salesForm"
   ]
  },
  {
   "cell_type": "code",
   "execution_count": 460,
   "metadata": {},
   "outputs": [],
   "source": [
    "salesType = salesForm[0]"
   ]
  },
  {
   "cell_type": "code",
   "execution_count": 461,
   "metadata": {},
   "outputs": [
    {
     "data": {
      "text/plain": [
       "'월세'"
      ]
     },
     "execution_count": 461,
     "metadata": {},
     "output_type": "execute_result"
    }
   ],
   "source": [
    "salesType"
   ]
  },
  {
   "cell_type": "code",
   "execution_count": 462,
   "metadata": {},
   "outputs": [],
   "source": [
    "salesDepositChar = salesForm[1]"
   ]
  },
  {
   "cell_type": "code",
   "execution_count": 463,
   "metadata": {},
   "outputs": [
    {
     "data": {
      "text/plain": [
       "'2000'"
      ]
     },
     "execution_count": 463,
     "metadata": {},
     "output_type": "execute_result"
    }
   ],
   "source": [
    "salesDepositChar"
   ]
  },
  {
   "cell_type": "code",
   "execution_count": 464,
   "metadata": {},
   "outputs": [
    {
     "name": "stdout",
     "output_type": "stream",
     "text": [
      "1\n"
     ]
    }
   ],
   "source": [
    "if salesDepositChar.find('억'):\n",
    "    print(1)\n",
    "else:\n",
    "    print(2)"
   ]
  },
  {
   "cell_type": "code",
   "execution_count": 465,
   "metadata": {},
   "outputs": [
    {
     "name": "stdout",
     "output_type": "stream",
     "text": [
      "2000\n",
      "바뀜\n",
      "2000\n"
     ]
    }
   ],
   "source": [
    "if salesDepositChar.find('원'):\n",
    "    print(salesDepositChar)\n",
    "    salesDepositChar = salesDepositChar.replace('원','')\n",
    "    print('바뀜')\n",
    "    print(salesDepositChar)\n"
   ]
  },
  {
   "cell_type": "code",
   "execution_count": 466,
   "metadata": {},
   "outputs": [],
   "source": [
    "salesdepositInt = salesDepositChar.replace('억', '00000000')"
   ]
  },
  {
   "cell_type": "code",
   "execution_count": 467,
   "metadata": {},
   "outputs": [],
   "source": [
    "salesdepositInt = int(salesdepositInt)"
   ]
  },
  {
   "cell_type": "code",
   "execution_count": 468,
   "metadata": {},
   "outputs": [
    {
     "data": {
      "text/plain": [
       "2000"
      ]
     },
     "execution_count": 468,
     "metadata": {},
     "output_type": "execute_result"
    }
   ],
   "source": [
    "salesdepositInt"
   ]
  },
  {
   "cell_type": "code",
   "execution_count": 469,
   "metadata": {},
   "outputs": [],
   "source": [
    "try:\n",
    "    salesmonthlyChar = salesForm[2]\n",
    "except IndexError:\n",
    "    pass"
   ]
  },
  {
   "cell_type": "code",
   "execution_count": 470,
   "metadata": {},
   "outputs": [
    {
     "data": {
      "text/plain": [
       "'55만원'"
      ]
     },
     "execution_count": 470,
     "metadata": {},
     "output_type": "execute_result"
    }
   ],
   "source": [
    "salesmonthlyChar"
   ]
  },
  {
   "cell_type": "code",
   "execution_count": 471,
   "metadata": {},
   "outputs": [],
   "source": [
    "salesmonthlyInt=salesmonthlyChar.replace('만원', '0000')"
   ]
  },
  {
   "cell_type": "code",
   "execution_count": 472,
   "metadata": {},
   "outputs": [],
   "source": [
    "salesmonthlyInt = int(salesmonthlyInt)"
   ]
  },
  {
   "cell_type": "code",
   "execution_count": 473,
   "metadata": {},
   "outputs": [
    {
     "data": {
      "text/plain": [
       "550000"
      ]
     },
     "execution_count": 473,
     "metadata": {},
     "output_type": "execute_result"
    }
   ],
   "source": [
    "salesmonthlyInt"
   ]
  },
  {
   "cell_type": "code",
   "execution_count": 591,
   "metadata": {},
   "outputs": [
    {
     "name": "stdout",
     "output_type": "stream",
     "text": [
      "2000\n",
      "2000\n"
     ]
    }
   ],
   "source": [
    "if salesType=='전세':\n",
    "    salesdepositInt = salesdepositInt + salesmonthlyInt\n",
    "    salesDepositChar = salesDepositChar + salesmonthlyChar\n",
    "    \n",
    "print(salesdepositInt)\n",
    "print(salesDepositChar)"
   ]
  },
  {
   "cell_type": "code",
   "execution_count": 357,
   "metadata": {},
   "outputs": [
    {
     "data": {
      "text/plain": [
       "'2층 '"
      ]
     },
     "execution_count": 357,
     "metadata": {},
     "output_type": "execute_result"
    }
   ],
   "source": [
    "unrefined_floor = driver.find_elements_by_xpath('/html/body/div[1]/div/div[2]/div/ul/li[1]/div')\n",
    "total_floor = unrefined_floor[0].get_attribute('innerText')\n",
    "total_floor = total_floor.split('/')\n",
    "floor = total_floor[0]\n",
    "floor"
   ]
  },
  {
   "cell_type": "code",
   "execution_count": 136,
   "metadata": {},
   "outputs": [
    {
     "data": {
      "text/plain": [
       "'3층'"
      ]
     },
     "execution_count": 136,
     "metadata": {},
     "output_type": "execute_result"
    }
   ],
   "source": [
    "totalFloor = total_floor[1]\n",
    "totalFloor =totalFloor.replace(' ', '')\n",
    "totalFloor"
   ]
  },
  {
   "cell_type": "code",
   "execution_count": 137,
   "metadata": {},
   "outputs": [
    {
     "data": {
      "text/plain": [
       "'42.97 / 46.28㎡'"
      ]
     },
     "execution_count": 137,
     "metadata": {},
     "output_type": "execute_result"
    }
   ],
   "source": [
    "unrefined_area = driver.find_elements_by_xpath('/html/body/div[1]/div/div[2]/div/ul/li[2]/div/span')\n",
    "area = unrefined_area[0].get_attribute('innerText')\n",
    "area"
   ]
  },
  {
   "cell_type": "code",
   "execution_count": null,
   "metadata": {},
   "outputs": [],
   "source": [
    "driver.find_element_by_xpath('/html/body/div[1]/div/div[2]/div/ul/li[2]/div/button').click()"
   ]
  },
  {
   "cell_type": "code",
   "execution_count": 507,
   "metadata": {},
   "outputs": [
    {
     "name": "stdout",
     "output_type": "stream",
     "text": [
      "60\n",
      "<class 'str'>\n",
      "['10 ', ' 60평']\n",
      " 60\n",
      "60\n",
      "<class 'int'>\n"
     ]
    },
    {
     "data": {
      "text/plain": [
       "60"
      ]
     },
     "execution_count": 507,
     "metadata": {},
     "output_type": "execute_result"
    }
   ],
   "source": [
    "unrefined_area = driver.find_elements_by_xpath('/html/body/div[1]/div/div[2]/div/ul/li[2]/div/span')\n",
    "supplyAreaChar = unrefined_area[0].get_attribute('innerText')\n",
    "supplyAreaInt = supplyAreaChar.split('/')\n",
    "supplyAreaInt = supplyAreaInt[1].replace('평', '')\n",
    "supplyAreaInt = supplyAreaInt.strip()\n",
    "supplyAreaInt = int(supplyAreaInt)"
   ]
  },
  {
   "cell_type": "code",
   "execution_count": 549,
   "metadata": {},
   "outputs": [],
   "source": [
    "unrefined_shortRent = driver.find_elements_by_xpath('/html/body/div[1]/div/div[5]/div[2]/div/table/tbody/tr/td[5]/p')"
   ]
  },
  {
   "cell_type": "code",
   "execution_count": 550,
   "metadata": {},
   "outputs": [],
   "source": [
    "shortRent = unrefined_shortRent[0].get_attribute('innerText')"
   ]
  },
  {
   "cell_type": "code",
   "execution_count": 551,
   "metadata": {},
   "outputs": [
    {
     "data": {
      "text/plain": [
       "'가능'"
      ]
     },
     "execution_count": 551,
     "metadata": {},
     "output_type": "execute_result"
    }
   ],
   "source": [
    "shortRent"
   ]
  },
  {
   "cell_type": "code",
   "execution_count": 552,
   "metadata": {},
   "outputs": [],
   "source": [
    "# if shortRent=='불가능':\n",
    "#     shortRent= False\n",
    "# else:\n",
    "#     shortRent= True"
   ]
  },
  {
   "cell_type": "code",
   "execution_count": 553,
   "metadata": {},
   "outputs": [
    {
     "data": {
      "text/plain": [
       "'5만 원(인터넷, 기타)'"
      ]
     },
     "execution_count": 553,
     "metadata": {},
     "output_type": "execute_result"
    }
   ],
   "source": [
    "unrefined_management = driver.find_elements_by_xpath('/html/body/div[1]/div/div[5]/div[2]/div/table/tbody/tr/td[3]')\n",
    "unrefined_management = unrefined_management[0].get_attribute('innerText')\n",
    "unrefined_management = unrefined_management.replace('\\n', '')\n",
    "unrefined_management"
   ]
  },
  {
   "cell_type": "code",
   "execution_count": 554,
   "metadata": {},
   "outputs": [],
   "source": [
    "unrefined_management = unrefined_management.replace(' ', '')\n",
    "unrefined_management = unrefined_management.replace('(', ' ')\n",
    "unrefined_management = unrefined_management.replace(')', ' ')\n",
    "unrefined_management = unrefined_management.replace(',', ' ')\n",
    "unrefined_management = unrefined_management.split(' ')"
   ]
  },
  {
   "cell_type": "code",
   "execution_count": 562,
   "metadata": {},
   "outputs": [
    {
     "data": {
      "text/plain": [
       "['인터넷', '기타', '']"
      ]
     },
     "execution_count": 562,
     "metadata": {},
     "output_type": "execute_result"
    }
   ],
   "source": [
    "unrefined_management\n",
    "# get_or_create()해야 할 듯 ."
   ]
  },
  {
   "cell_type": "code",
   "execution_count": 556,
   "metadata": {},
   "outputs": [],
   "source": [
    "managementPay = unrefined_management.pop(0)"
   ]
  },
  {
   "cell_type": "code",
   "execution_count": 557,
   "metadata": {
    "scrolled": true
   },
   "outputs": [
    {
     "data": {
      "text/plain": [
       "'5만원'"
      ]
     },
     "execution_count": 557,
     "metadata": {},
     "output_type": "execute_result"
    }
   ],
   "source": [
    "managementPay"
   ]
  },
  {
   "cell_type": "code",
   "execution_count": 558,
   "metadata": {},
   "outputs": [
    {
     "name": "stdout",
     "output_type": "stream",
     "text": [
      "5 \n",
      "5\n"
     ]
    }
   ],
   "source": [
    "if managementPay.find('만원'):\n",
    "    managementPay = managementPay.replace('만원', ' ')\n",
    "    print(managementPay)\n",
    "    managementPay = int(managementPay)\n",
    "else: \n",
    "    managementPay= 0\n",
    "print(managementPay)"
   ]
  },
  {
   "cell_type": "code",
   "execution_count": 571,
   "metadata": {},
   "outputs": [],
   "source": [
    "admin_list = []\n",
    "admin_list = [item for item in unrefined_management if not item =='']"
   ]
  },
  {
   "cell_type": "code",
   "execution_count": 574,
   "metadata": {},
   "outputs": [
    {
     "data": {
      "text/plain": [
       "['인터넷', '기타']"
      ]
     },
     "execution_count": 574,
     "metadata": {},
     "output_type": "execute_result"
    }
   ],
   "source": [
    "admin_list"
   ]
  },
  {
   "cell_type": "markdown",
   "metadata": {},
   "source": [
    "## 이게 다방이 방 내놓을때에는 관리비 포함 항목들을 오브젝트로 만들어놨는데 \n",
    "## 필터링할때에는 포함 항목들이 해당되지 않는다.\n",
    "## 이게 다방은 없는데 우리는 있는 기능으로 만들 수 있긴 있을 것 같다."
   ]
  },
  {
   "cell_type": "code",
   "execution_count": 575,
   "metadata": {},
   "outputs": [],
   "source": [
    "unrefined_parking = driver.find_elements_by_xpath('/html/body/div[1]/div/div[5]/div[2]/div/table/tbody/tr/td[4]/p')"
   ]
  },
  {
   "cell_type": "code",
   "execution_count": 576,
   "metadata": {},
   "outputs": [
    {
     "data": {
      "text/plain": [
       "'3만 원'"
      ]
     },
     "execution_count": 576,
     "metadata": {},
     "output_type": "execute_result"
    }
   ],
   "source": [
    "unrefined_parking[0].get_attribute('innerText')\n",
    "# 관리비는 따로 필터링 하지 않아서 그냥 텍스트로만 저장"
   ]
  },
  {
   "cell_type": "code",
   "execution_count": 578,
   "metadata": {},
   "outputs": [],
   "source": [
    "try:\n",
    "    unrefined_living_expenses = driver.find_elements_by_xpath('/html/body/div[1]/div/div[5]/div[2]/div/div/div/label')\n",
    "    unrefined_living_expenses_detail = driver.find_elements_by_xpath('/html/body/div[1]/div/div[5]/div[2]/div/div/div/span')\n",
    "except NoSuchElementException:\n",
    "    pass\n",
    "# 한달 생활비가 있는 글이 있고 없는 글이 있다."
   ]
  },
  {
   "cell_type": "code",
   "execution_count": 579,
   "metadata": {},
   "outputs": [
    {
     "data": {
      "text/plain": [
       "'118만원+α'"
      ]
     },
     "execution_count": 579,
     "metadata": {},
     "output_type": "execute_result"
    }
   ],
   "source": [
    "unrefined_living_expenses= unrefined_living_expenses[0].get_attribute('innerText')\n",
    "living_expenses = unrefined_living_expenses.replace(' ', '')\n",
    "living_expenses"
   ]
  },
  {
   "cell_type": "code",
   "execution_count": 580,
   "metadata": {},
   "outputs": [
    {
     "data": {
      "text/plain": [
       "'(월세 + 관리비 + 주차비)'"
      ]
     },
     "execution_count": 580,
     "metadata": {},
     "output_type": "execute_result"
    }
   ],
   "source": [
    "living_expenses_detail = unrefined_living_expenses_detail[0].get_attribute('innerText')\n",
    "living_expenses_detail"
   ]
  },
  {
   "cell_type": "code",
   "execution_count": 581,
   "metadata": {},
   "outputs": [
    {
     "data": {
      "text/plain": [
       "'3만 원'"
      ]
     },
     "execution_count": 581,
     "metadata": {},
     "output_type": "execute_result"
    }
   ],
   "source": [
    "unrefined_parking = driver.find_elements_by_xpath(\"/html/body/div[1]/div/div[5]/div[2]/div/table/tbody/tr/td[4]/p\")\n",
    "parking = unrefined_parking[0].get_attribute('innerText')\n",
    "parking\n",
    "# model에서 주차 비용 유무는 그냥 ios에서 보일때만 표시하고 django에 들어올때에는 없으면 안받고 있으면 받음.\n",
    "# 주차비도 필터링에 조건 되는게 없으니까 따로 숫자 빼지는 않겠음."
   ]
  },
  {
   "cell_type": "code",
   "execution_count": 582,
   "metadata": {
    "scrolled": false
   },
   "outputs": [
    {
     "data": {
      "text/plain": [
       "'즉시 입주'"
      ]
     },
     "execution_count": 582,
     "metadata": {},
     "output_type": "execute_result"
    }
   ],
   "source": [
    "unrefined_moveIn = driver.find_elements_by_xpath('/html/body/div[1]/div/div[2]/div/ul/li[9]/div')\n",
    "moveIn = unrefined_moveIn[0].get_attribute('innerText')\n",
    "moveIn"
   ]
  },
  {
   "cell_type": "markdown",
   "metadata": {},
   "source": [
    "# 날짜도 데이터타임 필드인데 크롤링 시 문자형이 있어서 우선 이걸로 \n",
    "# 이건 필드 두개 나눠서 크롤링 데이터는 문자형\n",
    "# 생성하게 될 것들은 데이터타임필드로 하던 우선 보류"
   ]
  },
  {
   "cell_type": "code",
   "execution_count": 584,
   "metadata": {},
   "outputs": [],
   "source": [
    "option_ins_list = []\n",
    "try:\n",
    "    unrefined_option = driver.find_elements_by_xpath('/html/body/div[1]/div/div[5]/div[3]/div[1]/div')\n",
    "except NoSuchElementException:\n",
    "    pass\n",
    "unrefined_option = unrefined_option[0].get_attribute('innerText')\n",
    "unrefined_option = unrefined_option.split('\\n\\n')\n",
    "option = unrefined_option\n",
    "for ins in option:\n",
    "    option_ins_list.append(ins)"
   ]
  },
  {
   "cell_type": "code",
   "execution_count": 585,
   "metadata": {},
   "outputs": [
    {
     "data": {
      "text/plain": [
       "['에어컨', '세탁기', '침대', '책상', '옷장', '신발장', '냉장고', '인덕션', '전자레인지', '전자도어락']"
      ]
     },
     "execution_count": 585,
     "metadata": {},
     "output_type": "execute_result"
    }
   ],
   "source": [
    "option_ins_list"
   ]
  },
  {
   "cell_type": "code",
   "execution_count": 76,
   "metadata": {},
   "outputs": [
    {
     "data": {
      "text/plain": [
       "'개별난방'"
      ]
     },
     "execution_count": 76,
     "metadata": {},
     "output_type": "execute_result"
    }
   ],
   "source": [
    "unrefined_heatingType = driver.find_elements_by_xpath('/html/body/div[1]/div/div[2]/div/ul/li[3]/div')\n",
    "heatingType = unrefined_heatingType[0].get_attribute('innerText')\n",
    "heatingType"
   ]
  },
  {
   "cell_type": "code",
   "execution_count": 77,
   "metadata": {},
   "outputs": [
    {
     "data": {
      "text/plain": [
       "'불가능'"
      ]
     },
     "execution_count": 77,
     "metadata": {},
     "output_type": "execute_result"
    }
   ],
   "source": [
    "unrefined_pet = driver.find_elements_by_xpath('/html/body/div[1]/div/div[2]/div/ul/li[6]/div')\n",
    "pet = unrefined_pet[0].get_attribute('innerText')\n",
    "pet"
   ]
  },
  {
   "cell_type": "code",
   "execution_count": 78,
   "metadata": {},
   "outputs": [
    {
     "data": {
      "text/plain": [
       "'없음'"
      ]
     },
     "execution_count": 78,
     "metadata": {},
     "output_type": "execute_result"
    }
   ],
   "source": [
    "unfined_elevator = driver.find_elements_by_xpath('/html/body/div[1]/div/div[2]/div/ul/li[5]/div')\n",
    "elevator = unfined_elevator[0].get_attribute('innerText')\n",
    "elevator"
   ]
  },
  {
   "cell_type": "markdown",
   "metadata": {},
   "source": [
    "### 복층, 1.5룸, 주방 분리형 아직 못찾아서 안넣었음"
   ]
  },
  {
   "cell_type": "code",
   "execution_count": 79,
   "metadata": {},
   "outputs": [
    {
     "data": {
      "text/plain": [
       "'아님'"
      ]
     },
     "execution_count": 79,
     "metadata": {},
     "output_type": "execute_result"
    }
   ],
   "source": [
    "unrefined_builtIn = driver.find_elements_by_xpath('/html/body/div[1]/div/div[2]/div/ul/li[4]/div')\n",
    "builtIn = unrefined_builtIn[0].get_attribute('innerText')\n",
    "builtIn"
   ]
  },
  {
   "cell_type": "code",
   "execution_count": 80,
   "metadata": {},
   "outputs": [
    {
     "data": {
      "text/plain": [
       "'없음'"
      ]
     },
     "execution_count": 80,
     "metadata": {},
     "output_type": "execute_result"
    }
   ],
   "source": [
    "unrefined_veranda = driver.find_elements_by_xpath('/html/body/div[1]/div/div[2]/div/ul/li[7]/div')\n",
    "veranda = unrefined_veranda[0].get_attribute('innerText')\n",
    "veranda"
   ]
  },
  {
   "cell_type": "code",
   "execution_count": 586,
   "metadata": {},
   "outputs": [
    {
     "data": {
      "text/plain": [
       "'불가능'"
      ]
     },
     "execution_count": 586,
     "metadata": {},
     "output_type": "execute_result"
    }
   ],
   "source": [
    "unrefined_depositLoan = driver.find_elements_by_xpath('/html/body/div[1]/div/div[2]/div/ul/li[8]/div')\n",
    "depositLoan = unrefined_depositLoan[0].get_attribute('innerText')\n",
    "depositLoan"
   ]
  },
  {
   "cell_type": "code",
   "execution_count": 588,
   "metadata": {},
   "outputs": [],
   "source": [
    "try:\n",
    "    unrefined_securitySafety = driver.find_elements_by_xpath('/html/body/div[1]/div/div[5]/div[3]/div[2]/div')\n",
    "    security = unrefined_securitySafety[0].get_attribute('innerText')\n",
    "        security= security.split('\\n\\n')\n",
    "except IndexError:\n",
    "    pass"
   ]
  },
  {
   "cell_type": "code",
   "execution_count": 590,
   "metadata": {},
   "outputs": [
    {
     "ename": "NameError",
     "evalue": "name 'security' is not defined",
     "output_type": "error",
     "traceback": [
      "\u001b[0;31m---------------------------------------------------------------------------\u001b[0m",
      "\u001b[0;31mNameError\u001b[0m                                 Traceback (most recent call last)",
      "\u001b[0;32m<ipython-input-590-ba254def26bb>\u001b[0m in \u001b[0;36m<module>\u001b[0;34m\u001b[0m\n\u001b[0;32m----> 1\u001b[0;31m \u001b[0msecurity\u001b[0m\u001b[0;34m\u001b[0m\u001b[0;34m\u001b[0m\u001b[0m\n\u001b[0m",
      "\u001b[0;31mNameError\u001b[0m: name 'security' is not defined"
     ]
    }
   ],
   "source": [
    "security"
   ]
  },
  {
   "cell_type": "code",
   "execution_count": null,
   "metadata": {},
   "outputs": [],
   "source": []
  }
 ],
 "metadata": {
  "kernelspec": {
   "display_name": "Python 3",
   "language": "python",
   "name": "python3"
  },
  "language_info": {
   "codemirror_mode": {
    "name": "ipython",
    "version": 3
   },
   "file_extension": ".py",
   "mimetype": "text/x-python",
   "name": "python",
   "nbconvert_exporter": "python",
   "pygments_lexer": "ipython3",
   "version": "3.7.4"
  }
 },
 "nbformat": 4,
 "nbformat_minor": 4
}
