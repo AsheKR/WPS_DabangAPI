{
 "cells": [
  {
   "cell_type": "code",
   "execution_count": 1,
   "metadata": {},
   "outputs": [],
   "source": [
    "from selenium import webdriver\n",
    "import time\n",
    "from selenium.common.exceptions import NoSuchElementException\n"
   ]
  },
  {
   "cell_type": "code",
   "execution_count": 2,
   "metadata": {},
   "outputs": [],
   "source": [
    "driver = webdriver.Chrome('/Users/mac/projects/ChromeWebDriver/chromedriver')"
   ]
  },
  {
   "cell_type": "code",
   "execution_count": 35,
   "metadata": {},
   "outputs": [],
   "source": [
    "import time\n",
    "\n",
    "from selenium import webdriver\n",
    "\n",
    "\n",
    "def find_apartment_urls():\n",
    "    driver = webdriver.Chrome('/Users/mac/projects/ChromeWebDriver/chromedriver')\n",
    "    driver.get('https://www.dabangapp.com/search#/map')\n",
    "\n",
    "    driver.find_element_by_name('keyword').send_keys('성수동1가')\n",
    "    time.sleep(2)\n",
    "\n",
    "    button = driver.find_element_by_xpath('/html/body/div[1]/div/div[1]/div/div[1]/ul/li[1]/ul/li[1]')\n",
    "    driver.execute_script(\"arguments[0].click();\", button)\n",
    "    time.sleep(2)\n",
    "\n",
    "    button = driver.find_element_by_xpath('/html/body/div[1]/div/div[1]/div/div[2]/div[1]/div')\n",
    "    driver.execute_script(\"arguments[0].click();\", button)\n",
    "    time.sleep(2)\n",
    "\n",
    "    button = driver.find_element_by_xpath(\n",
    "        '/html/body/div[1]/div/div[1]/div/div[2]/div[1]/div[2]/ul[2]/li/label/span[2]')\n",
    "    driver.execute_script(\"arguments[0].click();\", button)\n",
    "    time.sleep(2)\n",
    "\n",
    "    apt_list = []\n",
    "    for i in range(6):\n",
    "        apart_urls = driver.find_elements_by_xpath('/html/body/div[1]/div/div[2]/div[1]/div/div[2]/ul/li/div/a')\n",
    "        for url in apart_urls:\n",
    "            apt_list.append(url.get_attribute('href'))\n",
    "        button = driver.find_element_by_xpath('/html/body/div[1]/div/div[2]/div[1]/div/div[2]/div/div/div/button[2]')\n",
    "        driver.execute_script(\"arguments[0].click();\", button)\n",
    "        time.sleep(2)\n",
    "\n",
    "    # 성수 2동 시작.\n",
    "    driver.find_element_by_name('keyword').send_keys('성수동2가')\n",
    "    time.sleep(2)\n",
    "\n",
    "    button = driver.find_element_by_xpath('/html/body/div[1]/div/div[1]/div/div[1]/ul/li[1]/ul/li[1]')\n",
    "    driver.execute_script(\"arguments[0].click();\", button)\n",
    "    time.sleep(2)\n",
    "\n",
    "    button = driver.find_element_by_xpath('/html/body/div[1]/div/div[1]/div/div[2]/div[1]/div')\n",
    "    driver.execute_script(\"arguments[0].click();\", button)\n",
    "    time.sleep(2)\n",
    "\n",
    "    apart_urls = driver.find_elements_by_xpath('/html/body/div[1]/div/div[2]/div[1]/div/div[2]/ul/li/div/a')\n",
    "\n",
    "    for url in apart_urls:\n",
    "        apt_list.append(url.get_attribute('href'))\n",
    "    button = driver.find_element_by_xpath('/html/body/div[1]/div/div[2]/div[1]/div/div[2]/div/div/div/button[2]')\n",
    "    driver.execute_script(\"arguments[0].click();\", button)\n",
    "    time.sleep(2)\n",
    "\n",
    "    apart_urls = driver.find_elements_by_xpath('/html/body/div[1]/div/div[2]/div[1]/div/div[2]/ul/li/div/a')\n",
    "    for url in apart_urls:\n",
    "        apt_list.append(url.get_attribute('href'))\n",
    "\n",
    "    return apt_list\n",
    "\n",
    "\n",
    "def find_urls():\n",
    "    driver = webdriver.Chrome('/Users/mac/projects/ChromeWebDriver/chromedriver')\n",
    "    driver.implicitly_wait(3)\n",
    "    driver.get('https://www.dabangapp.com/search#/map')\n",
    "    driver.find_element_by_name('keyword').send_keys('성수동1가')\n",
    "    driver.find_element_by_xpath('/html/body/div[1]/div/div[1]/div/div[1]/ul/li[1]/ul/li[1]').click()\n",
    "    driver.find_element_by_xpath('/html/body/div[1]/div/div[2]/div[1]/div/div[1]/a[1]').click()\n",
    "\n",
    "    time.sleep(2)\n",
    "    url_all_list = []\n",
    "    for i in range(0, 3):\n",
    "        time.sleep(2)\n",
    "        seongsoo_1dong_detail_list = driver.find_elements_by_xpath(\n",
    "            \"/html/body/div[1]/div/div[2]/div[1]/div/div[2]/ul/li/div/a\")\n",
    "        for data in seongsoo_1dong_detail_list:\n",
    "            url_all_list.append(data.get_attribute('href'))\n",
    "        button = driver.find_element_by_xpath('/html/body/div[1]/div/div[2]/div[1]/div/div[2]/div/div/div/button[2]')\n",
    "        driver.execute_script(\"arguments[0].click();\", button)\n",
    "    print(len(url_all_list))\n",
    "\n",
    "    driver.find_element_by_name('keyword').send_keys('성수동2가')\n",
    "    time.sleep(2)\n",
    "    driver.find_element_by_xpath('/html/body/div[1]/div/div[1]/div/div[1]/ul/li[1]/ul/li[1]').click()\n",
    "    driver.find_element_by_xpath('/html/body/div[1]/div/div[2]/div[1]/div/div[1]/a[1]').click()\n",
    "    time.sleep(2)\n",
    "    seongsoo_2dong_detail_list = driver.find_elements_by_xpath(\n",
    "        \"/html/body/div[1]/div/div[2]/div[1]/div/div[2]/ul[2]/li/div/a\")\n",
    "    for data in seongsoo_2dong_detail_list:\n",
    "        url_all_list.append(data.get_attribute('href'))\n",
    "    for i in range(0, 2):\n",
    "        time.sleep(2)\n",
    "        seongsoo_2dong_detail_list = driver.find_elements_by_xpath(\n",
    "            \"/html/body/div[1]/div/div[2]/div[1]/div/div[2]/ul/li/div/a\")\n",
    "        for data in seongsoo_2dong_detail_list[2:]:\n",
    "            url_all_list.append(data.get_attribute('href'))\n",
    "        button = driver.find_element_by_xpath('/html/body/div[1]/div/div[2]/div[1]/div/div[2]/div/div/div/button[2]')\n",
    "        driver.execute_script(\"arguments[0].click();\", button)\n",
    "    print(len(url_all_list))\n",
    "    driver.close()\n",
    "    return url_all_list\n"
   ]
  },
  {
   "cell_type": "code",
   "execution_count": 36,
   "metadata": {},
   "outputs": [
    {
     "name": "stdout",
     "output_type": "stream",
     "text": [
      "56\n",
      "126\n"
     ]
    }
   ],
   "source": [
    "url_all_list = find_apartment_urls()\n",
    "url_all_list += find_urls()"
   ]
  },
  {
   "cell_type": "code",
   "execution_count": 37,
   "metadata": {},
   "outputs": [
    {
     "data": {
      "text/plain": [
       "['https://www.dabangapp.com/room/5e1d6b0773d078168238f1e0',\n",
       " 'https://www.dabangapp.com/room/5e6857600f04a6772796a407',\n",
       " 'https://www.dabangapp.com/room/5e818950279b951d62cb4760',\n",
       " 'https://www.dabangapp.com/room/5e868a4369367f4ba04cbd9a',\n",
       " 'https://www.dabangapp.com/room/5e7c2481a50ed345f63c82d2',\n",
       " 'https://www.dabangapp.com/room/5e7c715f773e22686b15ee5c',\n",
       " 'https://www.dabangapp.com/room/5e8aaa98521b226396ccdbbf',\n",
       " 'https://www.dabangapp.com/room/5e8d72f43ace3f54748ac195',\n",
       " 'https://www.dabangapp.com/room/5e6f0f71bcde1c6b698fdc41',\n",
       " 'https://www.dabangapp.com/room/5e8ae5d9ff822c19ad4d0911',\n",
       " 'https://www.dabangapp.com/room/5e6c6cced93974472c59c6b8',\n",
       " 'https://www.dabangapp.com/room/5e81a1b829cfcc06f34d07af',\n",
       " 'https://www.dabangapp.com/room/5e71aec6af6ef63ffd56a238',\n",
       " 'https://www.dabangapp.com/room/5e8812ec29ec2d636a1d92ca',\n",
       " 'https://www.dabangapp.com/room/5e8aa2bf50b6fd52a0957c27',\n",
       " 'https://www.dabangapp.com/room/5e71a7797741213bb1749b0d',\n",
       " 'https://www.dabangapp.com/room/5e8d687dbfc6b905d758e85d',\n",
       " 'https://www.dabangapp.com/room/5e819d03b701a426d98a42ea',\n",
       " 'https://www.dabangapp.com/room/5e8ea6167f954b7088471d4c',\n",
       " 'https://www.dabangapp.com/room/5e7c30a8febb732852667dc1',\n",
       " 'https://www.dabangapp.com/room/5e8d68928fc1cc4256ffd726',\n",
       " 'https://www.dabangapp.com/room/5e8e87131a056b7de982d60c',\n",
       " 'https://www.dabangapp.com/room/5e75868ff87c48462892dcd0',\n",
       " 'https://www.dabangapp.com/room/5e8d689d895f204256bc67c5',\n",
       " 'https://www.dabangapp.com/room/5e8d687fbc731542565350ea',\n",
       " 'https://www.dabangapp.com/room/5e8293bb31c88476954f7213',\n",
       " 'https://www.dabangapp.com/room/5e756335964ed823fc81e0f8',\n",
       " 'https://www.dabangapp.com/room/5e8bdd0323820f30a80c8b75',\n",
       " 'https://www.dabangapp.com/room/5e8d72acb3ddea5474b2beb2',\n",
       " 'https://www.dabangapp.com/room/5e8d6b3e6a1ed44bcb3fccf6',\n",
       " 'https://www.dabangapp.com/room/5e79c60d84be5e7ef8e96461',\n",
       " 'https://www.dabangapp.com/room/5e71ab6ddeb6c10f9e935e0a',\n",
       " 'https://www.dabangapp.com/room/5e8c62242dca726fb8181a93',\n",
       " 'https://www.dabangapp.com/room/5e7c52fea861501550e7e8a3',\n",
       " 'https://www.dabangapp.com/room/5e72c8819888397a3638a424',\n",
       " 'https://www.dabangapp.com/room/5e8acea9ce4f3e4ec40793d4',\n",
       " 'https://www.dabangapp.com/room/5e8ae5dd2a140b19ad1152a0',\n",
       " 'https://www.dabangapp.com/room/5e783d0a32767735792361c6',\n",
       " 'https://www.dabangapp.com/room/5e8d688876444542561191e3',\n",
       " 'https://www.dabangapp.com/room/5e69b95c030ffc2b52759d7a',\n",
       " 'https://www.dabangapp.com/room/5e7c1d79e58bcf11370fb44e',\n",
       " 'https://www.dabangapp.com/room/5e8aa7fcffe08e36cb56b4ce',\n",
       " 'https://www.dabangapp.com/room/5e82935402a1f77695464902',\n",
       " 'https://www.dabangapp.com/room/5e8ead5550fe9507241a4fb6',\n",
       " 'https://www.dabangapp.com/room/5e8d6b2b30f2f64bcb23cabc',\n",
       " 'https://www.dabangapp.com/room/5e8d213f2e87de0bdd660b28',\n",
       " 'https://www.dabangapp.com/room/5e8ac6d37f0d924616315449',\n",
       " 'https://www.dabangapp.com/room/5e71ab25234ea90f9e3684a6',\n",
       " 'https://www.dabangapp.com/room/5e8e7a0bb2d08c242d00ef0e',\n",
       " 'https://www.dabangapp.com/room/5e8d248ea8c2115d1680b1ce',\n",
       " 'https://www.dabangapp.com/room/5e8ac8522eccde46164a92d3',\n",
       " 'https://www.dabangapp.com/room/5e7ac6c2cbf0df08eb1d61ff',\n",
       " 'https://www.dabangapp.com/room/5e86d085d3b91a35c2fbf0b7',\n",
       " 'https://www.dabangapp.com/room/5e8bd952c5710167918ef972',\n",
       " 'https://www.dabangapp.com/room/5e7c1ff47c26285ff0f5b216',\n",
       " 'https://www.dabangapp.com/room/5e70733be64ca9665e5a9759',\n",
       " 'https://www.dabangapp.com/room/5e7c7166244673686b638419',\n",
       " 'https://www.dabangapp.com/room/5e84665fdec4512c8b64192a',\n",
       " 'https://www.dabangapp.com/room/5e7ecdf238420950529b2564',\n",
       " 'https://www.dabangapp.com/room/5e6b164652c2753d337b4179',\n",
       " 'https://www.dabangapp.com/room/5e72ea274f0cc61c30fd8f36',\n",
       " 'https://www.dabangapp.com/room/5e8c2e7efbefce1fe5167abd',\n",
       " 'https://www.dabangapp.com/room/5e819e0e2ce1b126d9c88027',\n",
       " 'https://www.dabangapp.com/room/5e7026c96db9eb6cbda862e9',\n",
       " 'https://www.dabangapp.com/room/5e8ab2a116fdf52419a4663e',\n",
       " 'https://www.dabangapp.com/room/5e72e2cf83e008062fb55d61',\n",
       " 'https://www.dabangapp.com/room/5e8d3248d7b3d87429517725',\n",
       " 'https://www.dabangapp.com/room/5e8ec761980d512302d88076',\n",
       " 'https://www.dabangapp.com/room/5e7ad24a5809285b43dd6156',\n",
       " 'https://www.dabangapp.com/room/5e7bfd7b290cb26ec37087b2',\n",
       " 'https://www.dabangapp.com/room/5e7b21cb77efb279fa89895b',\n",
       " 'https://www.dabangapp.com/room/5e8be7742fa6cd03e13c708b',\n",
       " 'https://www.dabangapp.com/room/5e8d754b79a9c61857f1193d',\n",
       " 'https://www.dabangapp.com/room/5e7ae6cdfccb516fda9bd67a',\n",
       " 'https://www.dabangapp.com/room/5e8aa2a260d76f52a0b2e462',\n",
       " 'https://www.dabangapp.com/room/5e6f0ca8c990b036c43197c1',\n",
       " 'https://www.dabangapp.com/room/5e72ec87fdf308458942257f',\n",
       " 'https://www.dabangapp.com/room/5e8d636cdc19e6397ec46d1e',\n",
       " 'https://www.dabangapp.com/room/5e6f0bf4aa08bd36c473df19',\n",
       " 'https://www.dabangapp.com/room/5e7ad2422247205b43406c05',\n",
       " 'https://www.dabangapp.com/room/5e7307f8017a955b71279100',\n",
       " 'https://www.dabangapp.com/room/5e6f33247c85125a56950333',\n",
       " 'https://www.dabangapp.com/room/5e7c13ee116bff1a5c1b0fe5',\n",
       " 'https://www.dabangapp.com/room/5e70ab27caeda435adaadb1f',\n",
       " 'https://www.dabangapp.com/room/5e81aed624e07a1c823c3867',\n",
       " 'https://www.dabangapp.com/room/5e8d6b102d84de4bcb5ecd2e',\n",
       " 'https://www.dabangapp.com/room/5e8d6d9db9f51e74772371e0',\n",
       " 'https://www.dabangapp.com/room/5e7ec95111e1011a7ec7e203',\n",
       " 'https://www.dabangapp.com/room/5e8d6b2af4591f4bcbd7cf5f',\n",
       " 'https://www.dabangapp.com/room/5e7efa460358215304f057de',\n",
       " 'https://www.dabangapp.com/room/5e8d77eec22836604787ccb7',\n",
       " 'https://www.dabangapp.com/room/5e72c4a3811444445417df08',\n",
       " 'https://www.dabangapp.com/room/5e71de3ebd9532174f661894',\n",
       " 'https://www.dabangapp.com/room/5e71959aa3f116628a7b5917',\n",
       " 'https://www.dabangapp.com/room/5e7c323bccafa13d5abd89ba',\n",
       " 'https://www.dabangapp.com/room/5e7c7162b2dfed686b7f24ed',\n",
       " 'https://www.dabangapp.com/room/5e81beab3da96b3251ddf7eb',\n",
       " 'https://www.dabangapp.com/room/5e746c5855cade1ff3b2c900',\n",
       " 'https://www.dabangapp.com/room/5e8eab2db72bfe784f349eb9',\n",
       " 'https://www.dabangapp.com/room/5e8d6b2374a2364bcbc2ac61',\n",
       " 'https://www.dabangapp.com/room/5e857bc1b4e0795b8a572512',\n",
       " 'https://www.dabangapp.com/room/5e819de582c86726d99a8ee5',\n",
       " 'https://www.dabangapp.com/room/5e8bddbea4736e4e7859a818',\n",
       " 'https://www.dabangapp.com/room/5e8a9c86b3222941bb9d625c',\n",
       " 'https://www.dabangapp.com/room/5e8d6883ae10dc42562deaa6',\n",
       " 'https://www.dabangapp.com/room/5e8d6dedfe955974773b7f98',\n",
       " 'https://www.dabangapp.com/room/5e7c36033dc51b7e45ba7b1f',\n",
       " 'https://www.dabangapp.com/room/5e7ae6101b845266b335b028',\n",
       " 'https://www.dabangapp.com/room/5e6f1211e8174c468ae971a6',\n",
       " 'https://www.dabangapp.com/room/5e6f0a419f0dec7f7c305a0f',\n",
       " 'https://www.dabangapp.com/room/5e6f433852da4f5e153acde8',\n",
       " 'https://www.dabangapp.com/room/5e8d6d8654dabc7477b66be4',\n",
       " 'https://www.dabangapp.com/room/5e8d68bfbf170b4256afb5b4',\n",
       " 'https://www.dabangapp.com/room/5e8ab2d3e5b96224197411d8',\n",
       " 'https://www.dabangapp.com/room/5e8d72cf459db754746e75c8',\n",
       " 'https://www.dabangapp.com/room/5e8e7cf99d891c3904c57951',\n",
       " 'https://www.dabangapp.com/room/5e71de843a4ea4174fa94faa',\n",
       " 'https://www.dabangapp.com/room/5e8d7037eebcf14dcc96a73a',\n",
       " 'https://www.dabangapp.com/room/5e8aa4778e97eb10a32212da',\n",
       " 'https://www.dabangapp.com/room/5e8ac3f8d5f8af65d9d3516d',\n",
       " 'https://www.dabangapp.com/room/5e83f3eaee50375db934125d',\n",
       " 'https://www.dabangapp.com/room/5e8812e4b1d930636a6d8e56',\n",
       " 'https://www.dabangapp.com/room/5e8d35bd0cf5a5412d6da2ea',\n",
       " 'https://www.dabangapp.com/room/5e7acbcb77c7d1101fafdd2f',\n",
       " 'https://www.dabangapp.com/room/5e6843ceceab2e41fbe4a245',\n",
       " 'https://www.dabangapp.com/room/5e7afd8e99ef8a59f3a5afd9',\n",
       " 'https://www.dabangapp.com/room/5e7c1d58c603891137e21986',\n",
       " 'https://www.dabangapp.com/room/5e8bccd653f79c0966641d16',\n",
       " 'https://www.dabangapp.com/room/5e8ab40e3d0b3003b99b42f7',\n",
       " 'https://www.dabangapp.com/room/5e8a945fee38c71dd70b0cb0',\n",
       " 'https://www.dabangapp.com/room/5e67450905ccd50f3cbe66d9',\n",
       " 'https://www.dabangapp.com/room/5e856698c18a88387dfe7d10',\n",
       " 'https://www.dabangapp.com/room/5e7ed445b9ca165a0abe5c37',\n",
       " 'https://www.dabangapp.com/room/5e8ae29d43b92a02e532a9d7',\n",
       " 'https://www.dabangapp.com/room/5e8550aabea97b7a22578734',\n",
       " 'https://www.dabangapp.com/room/5e8aac2b54de271a14e4c32e',\n",
       " 'https://www.dabangapp.com/room/5e8ae05afa02033147833694',\n",
       " 'https://www.dabangapp.com/room/5e82d5bb15e93834534e5f52',\n",
       " 'https://www.dabangapp.com/room/5e86a3c6c3bafd57a1dd6a77',\n",
       " 'https://www.dabangapp.com/room/5e6ae2e92f0a64540a1f6be7',\n",
       " 'https://www.dabangapp.com/room/5e7d6469c88b2e4d3edf63ab',\n",
       " 'https://www.dabangapp.com/room/5e814fd64039fb0ab049a6d8',\n",
       " 'https://www.dabangapp.com/room/5e82b23608fecc73e61f4d63',\n",
       " 'https://www.dabangapp.com/room/5e8ae5ed851dda19ad8b717d',\n",
       " 'https://www.dabangapp.com/room/5e8edff144048f63141f001c',\n",
       " 'https://www.dabangapp.com/room/5e7ae14bc6b15433d28cf62f',\n",
       " 'https://www.dabangapp.com/room/5e7c3a23c85f5376a60e8fc9',\n",
       " 'https://www.dabangapp.com/room/5e82b22081a85e73e67a5dda',\n",
       " 'https://www.dabangapp.com/room/5e7ac451a96dd2389c19493c',\n",
       " 'https://www.dabangapp.com/room/5e8e76abab03dd31e56dcb71',\n",
       " 'https://www.dabangapp.com/room/5e8c1f6ef9ae1d50cbdf754b',\n",
       " 'https://www.dabangapp.com/room/5e7d692a742312505a5190d4',\n",
       " 'https://www.dabangapp.com/room/5e8154e74cd9607c21f9d10c',\n",
       " 'https://www.dabangapp.com/room/5e86f4b7e302b11c09fae313',\n",
       " 'https://www.dabangapp.com/room/5e8812e58751ff636a485f05',\n",
       " 'https://www.dabangapp.com/room/5e6b431f9dbf8b2583721312',\n",
       " 'https://www.dabangapp.com/room/5e8830b78321b32902cade76',\n",
       " 'https://www.dabangapp.com/room/5e8d6e4dd2170c747784db4e',\n",
       " 'https://www.dabangapp.com/room/5e6717ec3906db227c5299ae',\n",
       " 'https://www.dabangapp.com/room/5e7068cae8747815b23d81e4',\n",
       " 'https://www.dabangapp.com/room/5e7431f250356c4b2e118c0c',\n",
       " 'https://www.dabangapp.com/room/5e81884c1e326a0478fe722b',\n",
       " 'https://www.dabangapp.com/room/5e673c15698f655fbd1b741d',\n",
       " 'https://www.dabangapp.com/room/5e85790803871a2aa7b0afdb',\n",
       " 'https://www.dabangapp.com/room/5e7c0280a77db85208d4fc64',\n",
       " 'https://www.dabangapp.com/room/5e8e8645245cf677356da8aa',\n",
       " 'https://www.dabangapp.com/room/5e81610280554a6b432242ca',\n",
       " 'https://www.dabangapp.com/room/5e79ac00e7b2ac67af850dcf',\n",
       " 'https://www.dabangapp.com/room/5e61eb268c45fb4368c1a174',\n",
       " 'https://www.dabangapp.com/room/5dea1592bfd6ae3b8ca406ce',\n",
       " 'https://www.dabangapp.com/room/5e6f0321aeeb591276221de3',\n",
       " 'https://www.dabangapp.com/room/5e8c3d4a27ee572fb48cf07d',\n",
       " 'https://www.dabangapp.com/room/5e8c359bc2ca62270a3c49d9',\n",
       " 'https://www.dabangapp.com/room/5bc699f134bde816829a8f18',\n",
       " 'https://www.dabangapp.com/room/5e81a2cd918a981d67c29e72',\n",
       " 'https://www.dabangapp.com/room/5df1ea294eac3d7bfabcba03',\n",
       " 'https://www.dabangapp.com/room/5dd4f8a12bda4e34e57d0447',\n",
       " 'https://www.dabangapp.com/room/5e843a4d99a00c17e3bc85c4',\n",
       " 'https://www.dabangapp.com/room/5813063a2e6f462359315117',\n",
       " 'https://www.dabangapp.com/room/5e843e15f2ad0e4b0b318f32',\n",
       " 'https://www.dabangapp.com/room/5b0e2eea5ed74c7355786247',\n",
       " 'https://www.dabangapp.com/room/5e572e5757f09c5638273c20',\n",
       " 'https://www.dabangapp.com/room/5e3befe9e242632ffa06bc85',\n",
       " 'https://www.dabangapp.com/room/5e72c6b3f4b5b86fe3c8f385',\n",
       " 'https://www.dabangapp.com/room/5e72bf479c854870aa02c352',\n",
       " 'https://www.dabangapp.com/room/5e3845a2d7447c3fabc904e3',\n",
       " 'https://www.dabangapp.com/room/5e84034e55c6882f23bd690e',\n",
       " 'https://www.dabangapp.com/room/5e6a18246e8dfd678a99dbe8',\n",
       " 'https://www.dabangapp.com/room/5e82ffe2f112a16b1126ca5e',\n",
       " 'https://www.dabangapp.com/room/5d9c54de54340c1c977f92d8',\n",
       " 'https://www.dabangapp.com/room/5e843dc1031dc142631601df',\n",
       " 'https://www.dabangapp.com/room/5cbea76d71e887479063ac59',\n",
       " 'https://www.dabangapp.com/room/5e6b586d27e43b013e9ba597',\n",
       " 'https://www.dabangapp.com/room/5e33edce22c6252a97b9a7d0',\n",
       " 'https://www.dabangapp.com/room/5d64b386c2523c16a42f3d07',\n",
       " 'https://www.dabangapp.com/room/5e71d3578c6d8b3b99af9f05',\n",
       " 'https://www.dabangapp.com/room/5d9ec99fc9a3dd4b29e3efcd',\n",
       " 'https://www.dabangapp.com/room/5e4a2310faa1647355958b95',\n",
       " 'https://www.dabangapp.com/room/5e82f884d770ee57c7f381cf',\n",
       " 'https://www.dabangapp.com/room/5e0f3718d96bea310291e09a',\n",
       " 'https://www.dabangapp.com/room/5e1e71f971ee814758fbcdc3',\n",
       " 'https://www.dabangapp.com/room/5d8ee7ac7fa17e2f2267239a',\n",
       " 'https://www.dabangapp.com/room/5e7063689bcb876003ebe17c',\n",
       " 'https://www.dabangapp.com/room/5e816497deec6b3194f63705',\n",
       " 'https://www.dabangapp.com/room/5e86edc1914a1d1d7ef51ac2',\n",
       " 'https://www.dabangapp.com/room/5e4a1c16cc7257682001c153',\n",
       " 'https://www.dabangapp.com/room/5df1eb02d5887d7930797275',\n",
       " 'https://www.dabangapp.com/room/5e7047cb6896ee286b243867',\n",
       " 'https://www.dabangapp.com/room/5e72be16b85b0e6fc9a7a7cc',\n",
       " 'https://www.dabangapp.com/room/5e3d39fc91024d6190bc9525',\n",
       " 'https://www.dabangapp.com/room/5d7192bea78ebd789a9c3e74',\n",
       " 'https://www.dabangapp.com/room/5e71af111d650303159f0348',\n",
       " 'https://www.dabangapp.com/room/5e743653aa39251c524916a3',\n",
       " 'https://www.dabangapp.com/room/5e4643a33e033020a5e53f8d',\n",
       " 'https://www.dabangapp.com/room/5e8591a5880dfc22b9e0970f',\n",
       " 'https://www.dabangapp.com/room/579704dc6f1b3a094aec5f57',\n",
       " 'https://www.dabangapp.com/room/5e33bb027bfab713de85a774',\n",
       " 'https://www.dabangapp.com/room/5e4a2ece3982731d6e5b52d7',\n",
       " 'https://www.dabangapp.com/room/5dede10eeea3c95b23de6927',\n",
       " 'https://www.dabangapp.com/room/5e8ace5e7702c43897f858ac',\n",
       " 'https://www.dabangapp.com/room/5e72fa154944a63dbd73fe69',\n",
       " 'https://www.dabangapp.com/room/5e6759cdb979bc71e9afeab2',\n",
       " 'https://www.dabangapp.com/room/5e86a6ebd985b83a8fa2a24e',\n",
       " 'https://www.dabangapp.com/room/5d9af15512468a5ee4605669',\n",
       " 'https://www.dabangapp.com/room/5d652a2654311c3fa94d6ee2',\n",
       " 'https://www.dabangapp.com/room/5e8581abf11589776af13eac',\n",
       " 'https://www.dabangapp.com/room/5e8ea363d86a754325dcc5ae',\n",
       " 'https://www.dabangapp.com/room/5ddd53a496557639e70c825e',\n",
       " 'https://www.dabangapp.com/room/5e69e947a04bbf4144fc94f6',\n",
       " 'https://www.dabangapp.com/room/5da957e0f65248141534bc38',\n",
       " 'https://www.dabangapp.com/room/5da19747bf668c3e1d36d1af',\n",
       " 'https://www.dabangapp.com/room/5e8d36c5643ef26fe5d7a23a',\n",
       " 'https://www.dabangapp.com/room/5e47792095a5332028d312b8',\n",
       " 'https://www.dabangapp.com/room/5e3cfc049d81167ed198e975',\n",
       " 'https://www.dabangapp.com/room/5c0e5ccffc1a300f6fbeedaa',\n",
       " 'https://www.dabangapp.com/room/5e7997c5619be26de13760d1',\n",
       " 'https://www.dabangapp.com/room/5e8c077fc6addb21400412cb',\n",
       " 'https://www.dabangapp.com/room/5e84996da1218276a29e79cc',\n",
       " 'https://www.dabangapp.com/room/5e686a51b02f2e40fb7defd3',\n",
       " 'https://www.dabangapp.com/room/5ddcfaec6e8a987c8a9e65e1',\n",
       " 'https://www.dabangapp.com/room/5b442f6802c75b70610826a9',\n",
       " 'https://www.dabangapp.com/room/5c5d8557e98ed333425a3cb4',\n",
       " 'https://www.dabangapp.com/room/5df9e1954c971122317f86f2',\n",
       " 'https://www.dabangapp.com/room/5e268a6db427ae304ec68e3f',\n",
       " 'https://www.dabangapp.com/room/5e19204fd1e8ba59c8b5d7f4',\n",
       " 'https://www.dabangapp.com/room/5e3bd8f8a44600193619046c',\n",
       " 'https://www.dabangapp.com/room/5e83fbfaa2b0597ae67aaf10',\n",
       " 'https://www.dabangapp.com/room/5d9af15512468a5ee4605669',\n",
       " 'https://www.dabangapp.com/room/5d652a2654311c3fa94d6ee2',\n",
       " 'https://www.dabangapp.com/room/5e8581abf11589776af13eac',\n",
       " 'https://www.dabangapp.com/room/5e8ea363d86a754325dcc5ae',\n",
       " 'https://www.dabangapp.com/room/5ddd53a496557639e70c825e',\n",
       " 'https://www.dabangapp.com/room/5e69e947a04bbf4144fc94f6',\n",
       " 'https://www.dabangapp.com/room/5da957e0f65248141534bc38',\n",
       " 'https://www.dabangapp.com/room/5da19747bf668c3e1d36d1af',\n",
       " 'https://www.dabangapp.com/room/5e8d36c5643ef26fe5d7a23a',\n",
       " 'https://www.dabangapp.com/room/5e47792095a5332028d312b8',\n",
       " 'https://www.dabangapp.com/room/5e3cfc049d81167ed198e975',\n",
       " 'https://www.dabangapp.com/room/5c0e5ccffc1a300f6fbeedaa',\n",
       " 'https://www.dabangapp.com/room/5e7997c5619be26de13760d1',\n",
       " 'https://www.dabangapp.com/room/5e8c077fc6addb21400412cb',\n",
       " 'https://www.dabangapp.com/room/5e84996da1218276a29e79cc',\n",
       " 'https://www.dabangapp.com/room/5e686a51b02f2e40fb7defd3',\n",
       " 'https://www.dabangapp.com/room/5ddcfaec6e8a987c8a9e65e1',\n",
       " 'https://www.dabangapp.com/room/5b442f6802c75b70610826a9',\n",
       " 'https://www.dabangapp.com/room/5c5d8557e98ed333425a3cb4',\n",
       " 'https://www.dabangapp.com/room/5df9e1954c971122317f86f2',\n",
       " 'https://www.dabangapp.com/room/5e268a6db427ae304ec68e3f',\n",
       " 'https://www.dabangapp.com/room/5e19204fd1e8ba59c8b5d7f4',\n",
       " 'https://www.dabangapp.com/room/5e3bd8f8a44600193619046c',\n",
       " 'https://www.dabangapp.com/room/5e83fbfaa2b0597ae67aaf10',\n",
       " 'https://www.dabangapp.com/room/5e659c74f2a3ac415c367599',\n",
       " 'https://www.dabangapp.com/room/5e843414848c0b61944e50c5',\n",
       " 'https://www.dabangapp.com/room/5e5f7d649d2d5f4a00a465af',\n",
       " 'https://www.dabangapp.com/room/5e4ceabfac08d4432ca2e889',\n",
       " 'https://www.dabangapp.com/room/581ae8a8f7f1fe26fd7d65f0',\n",
       " 'https://www.dabangapp.com/room/5e61de5954444f17b12b891d',\n",
       " 'https://www.dabangapp.com/room/5df05b64849a606d56f017e9',\n",
       " 'https://www.dabangapp.com/room/5e2f8a15fd3dc349995a75d7',\n",
       " 'https://www.dabangapp.com/room/5e8e89360988e55bd5c27df0',\n",
       " 'https://www.dabangapp.com/room/5e69d334d3ac974a856143f1',\n",
       " 'https://www.dabangapp.com/room/5e070e3812665a1bb45f7621',\n",
       " 'https://www.dabangapp.com/room/5db78bcdeaa0e9359de71c0f',\n",
       " 'https://www.dabangapp.com/room/5e577c56e868473adfb353ff',\n",
       " 'https://www.dabangapp.com/room/5e8417aed1aab53f82078a05',\n",
       " 'https://www.dabangapp.com/room/5e3d26804c5e444011d7eee1',\n",
       " 'https://www.dabangapp.com/room/5e26a2b3134cd53da423d101',\n",
       " 'https://www.dabangapp.com/room/5e60b894ea6fdf19bd4dd16b',\n",
       " 'https://www.dabangapp.com/room/5e6132798c88164b71a43b63',\n",
       " 'https://www.dabangapp.com/room/5e534da3b48b0352c46a436b',\n",
       " 'https://www.dabangapp.com/room/59f3e67dc6cda31e4c4f8b33',\n",
       " 'https://www.dabangapp.com/room/582fb3c519e7cb55ecce2534',\n",
       " 'https://www.dabangapp.com/room/5e89aadd49dee06a434e251e']"
      ]
     },
     "execution_count": 37,
     "metadata": {},
     "output_type": "execute_result"
    }
   ],
   "source": [
    "url_all_list"
   ]
  },
  {
   "cell_type": "code",
   "execution_count": 3,
   "metadata": {},
   "outputs": [],
   "source": [
    "driver.get('https://www.dabangapp.com/room/5e804ed6a87412151a8efd35')\n",
    "\n",
    "# 아파트\n",
    "# driver.get('https://www.dabangapp.com/room/5e8c1f6ef9ae1d50cbdf754b')"
   ]
  },
  {
   "cell_type": "code",
   "execution_count": 4,
   "metadata": {},
   "outputs": [
    {
     "data": {
      "text/plain": [
       "'아파트'"
      ]
     },
     "execution_count": 4,
     "metadata": {},
     "output_type": "execute_result"
    }
   ],
   "source": [
    "time.sleep(2)\n",
    "post_type = driver.find_element_by_xpath('/html/body/div[1]/div/div[1]/div/ul/li[1]/p/span')\n",
    "post_type = post_type.get_attribute('innerText')\n",
    "post_type"
   ]
  },
  {
   "cell_type": "code",
   "execution_count": 5,
   "metadata": {},
   "outputs": [
    {
     "name": "stdout",
     "output_type": "stream",
     "text": [
      "park (직거래)\n",
      "010-2049-3514\n"
     ]
    }
   ],
   "source": [
    "# Broker\n",
    "try:\n",
    "    button = driver.find_element_by_xpath(\"/html/body/div[1]/div/div[1]/div/ul/li/button\")\n",
    "    driver.execute_script(\"arguments[0].click();\", button)\n",
    "    \n",
    "    name = driver.find_element_by_xpath('/html/body/div[4]/div/div/div/div[1]/div[1]/h1')\n",
    "    name = name.get_attribute('innerText')\n",
    "    print(name)\n",
    "    address = driver.find_element_by_xpath('/html/body/div[4]/div/div/div/div[1]/div[1]/p')\n",
    "    address = address.get_attribute('innerText')\n",
    "    print(address)\n",
    "    manager = driver.find_element_by_xpath('/html/body/div[4]/div/div/div/div[2]/div[2]/p[1]')\n",
    "    manager = manager.get_attribute('innerText')\n",
    "    print(manager)\n",
    "    tel = driver.find_element_by_xpath('/html/body/div[4]/div/div/div/div[2]/div[2]/p[2]')\n",
    "    tel = tel.get_attribute('innerText')\n",
    "    print(tel)\n",
    "    print(name, address, manager, tel)\n",
    "except NoSuchElementException:\n",
    "    manager = driver.find_element_by_xpath('/html/body/div[4]/div/div/div/div/div[2]/p[1]')\n",
    "    manager = manager.get_attribute('innerText')\n",
    "    tel = driver.find_element_by_xpath('/html/body/div[4]/div/div/div/div/div[2]/p[2]')\n",
    "    tel = tel.get_attribute('innerText')\n",
    "    print(manager)\n",
    "    print(tel)\n",
    "button = driver.find_element_by_xpath(\"/html/body/div[4]/div/div/header/button\")\n",
    "driver.execute_script(\"arguments[0].click();\", button)"
   ]
  },
  {
   "cell_type": "code",
   "execution_count": 6,
   "metadata": {},
   "outputs": [],
   "source": [
    "# 상세 설명 보기\n",
    "try:\n",
    "    button = driver.find_element_by_xpath(\"/html/body/div[1]/div/div[4]/div/div/button\")\n",
    "    driver.execute_script(\"arguments[0].click();\", button)\n",
    "except NoSuchElementException:\n",
    "    pass\n"
   ]
  },
  {
   "cell_type": "code",
   "execution_count": 7,
   "metadata": {},
   "outputs": [
    {
     "data": {
      "text/plain": [
       "'올수리 정남향 압구정강남교통 편리하나은행융자 잔액2억1천정도만남기고 전세계약 원합니다ㆍ 감액등기해서 전세보증보혐로도 대납해줘서 임차인걱정없고요 린나이보일러도70주고작년설치 및ㅈ거실확장하고 올수리되어잏으며 작은방하나에 ㄷ자형책상및서재만들어져있습니다  입주는4-15일부터가능하며 빠르신분우대합니다'"
      ]
     },
     "execution_count": 7,
     "metadata": {},
     "output_type": "execute_result"
    }
   ],
   "source": [
    "unrefined_description = driver.find_elements_by_xpath(\"/html/body/div[1]/div/div[4]/div/div\")\n",
    "description = unrefined_description[0].get_attribute(\"innerText\")\n",
    "description.replace(\"\\n\", \"\")"
   ]
  },
  {
   "cell_type": "code",
   "execution_count": 8,
   "metadata": {},
   "outputs": [
    {
     "name": "stdout",
     "output_type": "stream",
     "text": [
      "salesType: 매물 종류는>> 전세\n",
      "salesDepositChar:  4억\n",
      "salesdepositInt:  400000000\n",
      "salesmonthlyChar:  5000만원\n",
      "salesmonthlyInt:  50000000\n"
     ]
    }
   ],
   "source": [
    "unrefined_salesform = driver.find_elements_by_xpath('/html/body/div[1]/div/div[1]/div/ul/li[1]/div')\n",
    "salesForm = unrefined_salesform[0].get_attribute(\"innerText\")\n",
    "salesForm = salesForm.replace('/', ' ')\n",
    "salesForm = salesForm.replace('\\n', '')\n",
    "salesForm = salesForm.split()\n",
    "salesType = salesForm[0]  # sales type\n",
    "print('salesType: 매물 종류는>>', salesType)\n",
    "salesDepositChar = salesForm[1]\n",
    "if salesDepositChar.find('원'):\n",
    "    salesDepositChar = salesDepositChar.replace('원', '')\n",
    "    print('salesDepositChar: ', salesDepositChar)\n",
    "salesdepositInt = salesDepositChar.replace('억', '00000000')\n",
    "if salesdepositInt.find('만'):\n",
    "    salesdepositInt = salesdepositInt.replace('만', '')\n",
    "salesdepositInt = int(salesdepositInt)\n",
    "print('salesdepositInt: ', salesdepositInt)\n",
    "\n",
    "\n",
    "try:\n",
    "    salesmonthlyChar = salesForm[2]\n",
    "    print('salesmonthlyChar: ', salesmonthlyChar)\n",
    "    salesmonthlyInt = salesmonthlyChar.replace('만원', '0000')\n",
    "    salesmonthlyInt = int(salesmonthlyInt)\n",
    "    print('salesmonthlyInt: ', salesmonthlyInt)\n",
    "    if salesType == '전세':\n",
    "        # 전세는 금액이 억, 만원이 붙어 있는 경우가 있어서 이렇게 처리.\n",
    "        salesdepositInt = salesdepositInt + salesmonthlyInt\n",
    "        salesDepositChar = salesDepositChar + salesmonthlyChar\n",
    "except IndexError:\n",
    "    salesmonthlyInt = 0\n",
    "    salesmonthlyChar = ''"
   ]
  },
  {
   "cell_type": "code",
   "execution_count": 9,
   "metadata": {},
   "outputs": [
    {
     "name": "stdout",
     "output_type": "stream",
     "text": [
      "[<selenium.webdriver.remote.webelement.WebElement (session=\"75b37b2ef5ff8fe3fb247349b135cae0\", element=\"0.28095169457930247-8\")>]\n"
     ]
    },
    {
     "data": {
      "text/plain": [
       "'서울시 성동구 행당동 344'"
      ]
     },
     "execution_count": 9,
     "metadata": {},
     "output_type": "execute_result"
    }
   ],
   "source": [
    "if post_type ==\"아파트\":\n",
    "    if salesType == \"매매\":\n",
    "        address = driver.find_elements_by_xpath('/html/body/div[1]/div/div[5]/div[3]/div/p')\n",
    "    else:\n",
    "        address = driver.find_elements_by_xpath('/html/body/div[1]/div/div[5]/div[5]/div/p')\n",
    "else:\n",
    "    address = driver.find_elements_by_xpath('/html/body/div[1]/div/div[5]/div[4]/div/p')\n",
    "if not address:\n",
    "    address = driver.find_elements_by_xpath('/html/body/div[1]/div/div[5]/div/div/p')\n",
    "print(address)\n",
    "address = address[0].get_attribute('innerText')\n",
    "address"
   ]
  },
  {
   "cell_type": "code",
   "execution_count": 10,
   "metadata": {},
   "outputs": [
    {
     "name": "stdout",
     "output_type": "stream",
     "text": [
      "floor>> 2층 \n",
      "totalFloor >>  15층\n"
     ]
    }
   ],
   "source": [
    "unrefined_floor = driver.find_elements_by_xpath('/html/body/div[1]/div/div[2]/div/ul/li[1]/div')\n",
    "total_floor = unrefined_floor[0].get_attribute('innerText')\n",
    "total_floor = total_floor.split('/')\n",
    "floor = total_floor[0]\n",
    "floor = floor\n",
    "print('floor>>', floor)\n",
    "totalFloor = total_floor[1]\n",
    "totalFloor = totalFloor.replace(' ', '')\n",
    "totalFloor = totalFloor\n",
    "print('totalFloor >> ', totalFloor)"
   ]
  },
  {
   "cell_type": "code",
   "execution_count": 11,
   "metadata": {},
   "outputs": [
    {
     "name": "stdout",
     "output_type": "stream",
     "text": [
      "area >> 84.99 / 102.07㎡\n",
      "areaChar >>  84.99 / 102.07㎡\n"
     ]
    }
   ],
   "source": [
    "unrefined_area = driver.find_elements_by_xpath('/html/body/div[1]/div/div[2]/div/ul/li[2]/div/span')\n",
    "area = unrefined_area[0].get_attribute('innerText')\n",
    "print('area >>', area)\n",
    "areaChar = area\n",
    "print('areaChar >> ', areaChar)"
   ]
  },
  {
   "cell_type": "code",
   "execution_count": 12,
   "metadata": {},
   "outputs": [],
   "source": [
    "# 평수로 변환해주는 버튼 클릭\n",
    "time.sleep(1)\n",
    "driver.find_element_by_xpath('/html/body/div[1]/div/div[2]/div/ul/li[2]/div/button').click()\n"
   ]
  },
  {
   "cell_type": "code",
   "execution_count": 13,
   "metadata": {},
   "outputs": [
    {
     "name": "stdout",
     "output_type": "stream",
     "text": [
      "supplyAreaChar >>  26 / 31평\n",
      "supplyAreaInt >>  31\n"
     ]
    }
   ],
   "source": [
    "unrefined_area = driver.find_elements_by_xpath('/html/body/div[1]/div/div[2]/div/ul/li[2]/div/span')\n",
    "supplyAreaChar = unrefined_area[0].get_attribute('innerText')\n",
    "print('supplyAreaChar >> ', supplyAreaChar)\n",
    "supplyAreaInt = supplyAreaChar.split('/')\n",
    "supplyAreaInt = supplyAreaInt[1].replace('평', '')\n",
    "\n",
    "supplyAreaInt = supplyAreaInt.strip()\n",
    "\n",
    "supplyAreaInt = int(supplyAreaInt)\n",
    "print('supplyAreaInt >> ', supplyAreaInt)"
   ]
  },
  {
   "cell_type": "markdown",
   "metadata": {},
   "source": [
    "### 매매에서는 shortRent가 None"
   ]
  },
  {
   "cell_type": "code",
   "execution_count": 14,
   "metadata": {},
   "outputs": [
    {
     "name": "stdout",
     "output_type": "stream",
     "text": [
      "shortRent >> False\n"
     ]
    }
   ],
   "source": [
    "try:\n",
    "    if post_type=='아파트':\n",
    "        unrefined_shortRent = driver.find_elements_by_xpath(\n",
    "            '/html/body/div[1]/div/div[5]/div[3]/div/table/tbody/tr/td[5]/p')\n",
    "    else:\n",
    "        unrefined_shortRent = driver.find_elements_by_xpath('/html/body/div[1]/div/div[5]/div[2]/div/table/tbody/tr/td[5]/p')\n",
    "        if not unrefined_shortRent:\n",
    "            unrefined_shortRent = driver.find_elements_by_xpath('/html/body/div[1]/div/div[5]/div[3]/div/table/tbody/tr/td[4]/p')\n",
    "    shortRent = unrefined_shortRent[0].get_attribute('innerText')\n",
    "    shortRent = shortRent\n",
    "\n",
    "    if shortRent == '불가능':\n",
    "        shortRent = False\n",
    "    else:\n",
    "        shortRent = True\n",
    "        \n",
    "except IndexError:\n",
    "    # 매매에서는 단기임대가 없음. \n",
    "    shortRent=None\n",
    "print('shortRent >>', shortRent)"
   ]
  },
  {
   "cell_type": "markdown",
   "metadata": {},
   "source": [
    "## management가 안보이면 None"
   ]
  },
  {
   "cell_type": "code",
   "execution_count": 15,
   "metadata": {},
   "outputs": [],
   "source": [
    "try:\n",
    "    if post_type==\"아파트\":\n",
    "        management = driver.find_element_by_xpath('/html/body/div[1]/div/div[5]/div[3]/div/table/tbody/tr/td[3]')\n",
    "    else:\n",
    "        if salesType == \"매매\":\n",
    "            management = driver.find_element_by_xpath('/html/body/div[1]/div/div[5]/div[2]/div/table/tbody/tr/td[2]')\n",
    "        else:\n",
    "            management = driver.find_element_by_xpath('/html/body/div[1]/div/div[5]/div[2]/div/table/tbody/tr/td[3]')\n",
    "except NoSuchElementException:\n",
    "    management = None\n",
    "#     management = driver.find_element_by_xpath('/html/body/div[1]/div/div[5]/div[2]/div/table/tbody/tr/td[3]')\n",
    "try:\n",
    "    management = management.get_attribute('innerText')\n",
    "    management = management.replace('\\n', '')\n",
    "    management = management.replace(' ', '')\n",
    "    management = management.replace('(', ' ')\n",
    "    management = management.replace(')', ' ')\n",
    "    management = management.replace(',', ' ')\n",
    "    management = management.strip(' ')\n",
    "    management = management.split(' ')\n",
    "except AttributeError:\n",
    "    pass"
   ]
  },
  {
   "cell_type": "code",
   "execution_count": 16,
   "metadata": {
    "scrolled": true
   },
   "outputs": [
    {
     "name": "stdout",
     "output_type": "stream",
     "text": [
      "totalFee >>  18\n",
      "management >> ['전기세', '수도세', '청소비', '유선TV']\n"
     ]
    }
   ],
   "source": [
    "try:\n",
    "    managementPay = management.pop(0)\n",
    "    if managementPay.find('만원'):\n",
    "        managementPay = managementPay.replace('만원', ' ')\n",
    "        if managementPay == '없음':\n",
    "            managementPay = 0\n",
    "        managementPay = int(managementPay)\n",
    "    else:\n",
    "        managementPay = 0\n",
    "    totalFee = managementPay\n",
    "    print('totalFee >> ', totalFee)\n",
    "    print('management >>', management)\n",
    "except IndexError:\n",
    "    pass\n",
    "except AttributeError:\n",
    "    pass\n",
    "except NameError:\n",
    "    pass"
   ]
  },
  {
   "cell_type": "code",
   "execution_count": 17,
   "metadata": {},
   "outputs": [],
   "source": [
    "try:\n",
    "    if post_type ==\"아파트\":\n",
    "        if salesType ==\"매매\":\n",
    "            unrefined_parking = None\n",
    "        else:\n",
    "            unrefined_parking = driver.find_elements_by_xpath('/html/body/div[1]/div/div[5]/div[3]/div/table/tbody/tr/td[4]/p')\n",
    "    else:\n",
    "        if salesType == \"매매\":\n",
    "        # 일반 주택 매매\n",
    "            unrefined_parking = driver.find_elements_by_xpath(\"/html/body/div[1]/div/div[5]/div[2]/div/table/tbody/tr/td[3]\")\n",
    "        else:    \n",
    "            unrefined_parking = driver.find_elements_by_xpath(\"/html/body/div[1]/div/div[5]/div[2]/div/table/tbody/tr/td[4]/p\")\n",
    "    parkingDetail = unrefined_parking[0].get_attribute('innerText')\n",
    "except IndexError:\n",
    "    unrefined_parking = driver.find_elements_by_xpath(\n",
    "        '/html/body/div[1]/div/div[5]/div[3]/div/table/tbody/tr/td[4]/p'\n",
    "    )\n",
    "    parkingDetail = unrefined_parking[0].get_attribute('innerText')\n",
    "except TypeError:\n",
    "    parkingDetail = True"
   ]
  },
  {
   "cell_type": "code",
   "execution_count": 18,
   "metadata": {},
   "outputs": [
    {
     "data": {
      "text/plain": [
       "'가능(무료)'"
      ]
     },
     "execution_count": 18,
     "metadata": {},
     "output_type": "execute_result"
    }
   ],
   "source": [
    "parkingDetail"
   ]
  },
  {
   "cell_type": "code",
   "execution_count": 19,
   "metadata": {},
   "outputs": [
    {
     "name": "stdout",
     "output_type": "stream",
     "text": [
      "parkingTF >> True\n"
     ]
    }
   ],
   "source": [
    "if parkingDetail == '불가':\n",
    "    parkingTF = False\n",
    "else:\n",
    "    parkingTF = True\n",
    "print('parkingTF >>', parkingTF)"
   ]
  },
  {
   "cell_type": "code",
   "execution_count": 20,
   "metadata": {},
   "outputs": [],
   "source": [
    "try:\n",
    "    if not salesType == \"매매\":\n",
    "        if post_type ==\"아파트\":\n",
    "            unrefined_living_expenses = driver.find_elements_by_xpath('/html/body/div[1]/div/div[5]/div[3]/div/div/div/label')\n",
    "            unrefined_living_expenses_detail = driver.find_elements_by_xpath('/html/body/div[1]/div/div[5]/div[3]/div/div/div/span')\n",
    "        else:\n",
    "            try:\n",
    "                unrefined_living_expenses = driver.find_elements_by_xpath('/html/body/div[1]/div/div[5]/div[2]/div/div/div/label')\n",
    "                unrefined_living_expenses_detail = driver.find_elements_by_xpath('/html/body/div[1]/div/div[5]/div[2]/div/div/div/span')\n",
    "            except NoSuchElementException:\n",
    "                unrefined_living_expenses = driver.find_elements_by_xpath('/html/body/div[1]/div/div[5]/div[3]/div/div/div/label')\n",
    "                unrefined_living_expenses_detail = driver.find_elements_by_xpath('/html/body/div[1]/div/div[5]/div[3]/div/table/tbody/tr/td[3]/p[2]/span')                \n",
    "    else:\n",
    "        living_expenses = None\n",
    "        living_expenses_detail = None\n",
    "except NoSuchElementException:\n",
    "    pass"
   ]
  },
  {
   "cell_type": "code",
   "execution_count": 21,
   "metadata": {},
   "outputs": [
    {
     "name": "stdout",
     "output_type": "stream",
     "text": [
      "18만 원 + α\n",
      "(관리비)\n"
     ]
    }
   ],
   "source": [
    "try:\n",
    "    unrefined_living_expenses = unrefined_living_expenses[0].get_attribute('innerText')\n",
    "    print(unrefined_living_expenses)\n",
    "    living_expenses = unrefined_living_expenses.replace(' ', '')\n",
    "    living_expenses_detail = unrefined_living_expenses_detail[0].get_attribute('innerText')\n",
    "    print(living_expenses_detail)\n",
    "except IndexError:\n",
    "    unrefined_living_expenses = driver.find_elements_by_xpath(\n",
    "        '/html/body/div[1]/div/div[5]/div[3]/div/div/div/label'\n",
    "    )\n",
    "    unrefined_living_expenses_detail = driver.find_elements_by_xpath(\n",
    "        '/html/body/div[1]/div/div[5]/div[3]/div/div/div/span')\n",
    "    unrefined_living_expenses = unrefined_living_expenses[0].get_attribute('innerText')\n",
    "    living_expenses = unrefined_living_expenses.replace(' ', '')\n",
    "    living_expenses_detail = unrefined_living_expenses_detail[0].get_attribute('innerText')\n",
    "except TypeError:\n",
    "    pass\n",
    "except NameError:\n",
    "    pass"
   ]
  },
  {
   "cell_type": "code",
   "execution_count": 22,
   "metadata": {},
   "outputs": [
    {
     "name": "stdout",
     "output_type": "stream",
     "text": [
      "living_expenses >> 18만원+α\n",
      "living_expenses_detail >>  (관리비)\n"
     ]
    }
   ],
   "source": [
    "print('living_expenses >>', living_expenses)\n",
    "print('living_expenses_detail >> ', living_expenses_detail)"
   ]
  },
  {
   "cell_type": "code",
   "execution_count": 23,
   "metadata": {},
   "outputs": [
    {
     "data": {
      "text/plain": [
       "'2020.04.15'"
      ]
     },
     "execution_count": 23,
     "metadata": {},
     "output_type": "execute_result"
    }
   ],
   "source": [
    "if salesType == \"매매\":\n",
    "    if post_type ==\"아파트\":\n",
    "        moveIn = driver.find_element_by_xpath('/html/body/div[1]/div/div[2]/div/ul/li[7]/div')\n",
    "    else:\n",
    "        moveIn = driver.find_element_by_xpath('/html/body/div[1]/div/div[2]/div/ul/li[7]/div')\n",
    "else:\n",
    "    if post_type ==\"아파트\":\n",
    "        moveIn = driver.find_element_by_xpath('/html/body/div[1]/div/div[2]/div/ul/li[9]/div')\n",
    "    else:\n",
    "        moveIn = driver.find_element_by_xpath('/html/body/div[1]/div/div[2]/div/ul/li[9]/div')\n",
    "moveIn.get_attribute('innerText')"
   ]
  },
  {
   "cell_type": "code",
   "execution_count": 24,
   "metadata": {},
   "outputs": [
    {
     "data": {
      "text/plain": [
       "'2020.04.15'"
      ]
     },
     "execution_count": 24,
     "metadata": {},
     "output_type": "execute_result"
    }
   ],
   "source": [
    "moveIn.get_attribute('innerText')"
   ]
  },
  {
   "cell_type": "code",
   "execution_count": 25,
   "metadata": {},
   "outputs": [
    {
     "name": "stdout",
     "output_type": "stream",
     "text": [
      "['옵션', '책상', '옷장', '신발장', '가스레인지']\n",
      "result option ['책상', '옷장', '신발장']\n",
      "안전 시설 없음.\n"
     ]
    }
   ],
   "source": [
    "# option & sceurity\n",
    "\n",
    "try:\n",
    "    option_tag = driver.find_element_by_name('option')\n",
    "\n",
    "    option_tag = option_tag.get_attribute('innerText')\n",
    "\n",
    "    option_tag = option_tag.split('보안/안전시설')\n",
    "\n",
    "\n",
    "    option = option_tag[0]\n",
    "    option = option.split('\\n\\n')\n",
    "    print(option)\n",
    "    del option[0]\n",
    "    del option[-1]\n",
    "    \n",
    "    print('result option', option)\n",
    "    \n",
    "    security = option_tag[1]\n",
    "    security = security.split('\\n\\n')\n",
    "    del security[-1]\n",
    "    del security[0]\n",
    "    print('result security', security)\n",
    "except IndexError:\n",
    "    print('안전 시설 없음.')\n",
    "    security = None\n",
    "except NoSuchElementException:\n",
    "    print('옵션, 안전시설 없음')\n",
    "    option = None\n",
    "    security = None"
   ]
  },
  {
   "cell_type": "code",
   "execution_count": 34,
   "metadata": {},
   "outputs": [
    {
     "name": "stdout",
     "output_type": "stream",
     "text": [
      "개별난방\n"
     ]
    }
   ],
   "source": [
    "heatingType = driver.find_element_by_xpath('/html/body/div[1]/div/div[2]/div/ul/li[3]/div')\n",
    "heatingType = heatingType.get_attribute('innerText')\n",
    "print(heatingType)"
   ]
  },
  {
   "cell_type": "code",
   "execution_count": 26,
   "metadata": {},
   "outputs": [
    {
     "name": "stdout",
     "output_type": "stream",
     "text": [
      "pet >> False\n"
     ]
    }
   ],
   "source": [
    "if salesType==\"매매\":\n",
    "    if post_type==\"아파트\":\n",
    "        pet = True\n",
    "    else:\n",
    "        pet = True\n",
    "else:\n",
    "    if post_type==\"아파트\":\n",
    "        pet = driver.find_element_by_xpath('/html/body/div[1]/div/div[2]/div/ul/li[7]/div')\n",
    "    else:\n",
    "        pet = driver.find_element_by_xpath('/html/body/div[1]/div/div[2]/div/ul/li[6]/div')\n",
    "    pet = pet.get_attribute('innerText')\n",
    "    if pet ==\"불가능\":\n",
    "        pet = False\n",
    "    else:\n",
    "        pet= True\n"
   ]
  },
  {
   "cell_type": "code",
   "execution_count": 27,
   "metadata": {},
   "outputs": [
    {
     "name": "stdout",
     "output_type": "stream",
     "text": [
      "elevator >>  True\n"
     ]
    }
   ],
   "source": [
    "if post_type==\"아파트\":\n",
    "    elevator = True\n",
    "else:\n",
    "    elevator = driver.find_element_by_xpath('/html/body/div[1]/div/div[2]/div/ul/li[5]/div')\n",
    "    elevator = elevator.get_attribute('innerText')\n",
    "    if elevator==\"있음\":\n",
    "        elevator = True\n",
    "    else:\n",
    "        elevator=False\n",
    "print('elevator >> ', elevator)"
   ]
  },
  {
   "cell_type": "code",
   "execution_count": 28,
   "metadata": {},
   "outputs": [
    {
     "name": "stdout",
     "output_type": "stream",
     "text": [
      "builtIn >> True\n"
     ]
    }
   ],
   "source": [
    "if post_type==\"아파트\":\n",
    "    builtIn = True\n",
    "else:\n",
    "    builtIn = driver.find_element_by_xpath('/html/body/div[1]/div/div[2]/div/ul/li[4]/div')\n",
    "    builtIn = builtIn.get_attribute('innerText')\n",
    "    if builtIn ==\"아님\":\n",
    "        builtIn = False\n",
    "    else:\n",
    "        builtIn = True\n",
    "print('builtIn >>', builtIn)"
   ]
  },
  {
   "cell_type": "code",
   "execution_count": 29,
   "metadata": {},
   "outputs": [
    {
     "name": "stdout",
     "output_type": "stream",
     "text": [
      "veranda >> True\n"
     ]
    }
   ],
   "source": [
    "#베란다\n",
    "if post_type ==\"아파트\":\n",
    "    veranda = True\n",
    "else:\n",
    "    if salesType =='매매':\n",
    "        veranda = driver.find_element_by_xpath('/html/body/div[1]/div/div[2]/div/ul/li[6]/div')\n",
    "        veranda = veranda.get_attribute('innerText')\n",
    "        if veranda == \"있음\":\n",
    "            veranda = True\n",
    "        else:\n",
    "            veranda = False\n",
    "    else:\n",
    "        veranda = driver.find_element_by_xpath('/html/body/div[1]/div/div[2]/div/ul/li[7]/div')\n",
    "        veranda = veranda.get_attribute('innerText')\n",
    "        if veranda=='있음':\n",
    "            veranda = True\n",
    "        else:\n",
    "            veranda = False\n",
    "print('veranda >>', veranda)"
   ]
  },
  {
   "cell_type": "code",
   "execution_count": 30,
   "metadata": {},
   "outputs": [
    {
     "name": "stdout",
     "output_type": "stream",
     "text": [
      "depositLoan >> False\n"
     ]
    }
   ],
   "source": [
    "# depositLoan 전세 대출 자금\n",
    "if post_type == '아파트':\n",
    "    if salesType == '매매':\n",
    "        depositLoan = True\n",
    "    else:\n",
    "        depositLoan = driver.find_element_by_xpath('/html/body/div[1]/div/div[2]/div/ul/li[8]/div')\n",
    "        depositLoan = depositLoan.get_attribute('innerText')\n",
    "        if depositLoan == '가능':\n",
    "            depositLoan = True\n",
    "        else:\n",
    "            depositLoan = False\n",
    "else:\n",
    "    if salesType == '매매':\n",
    "            depositLoan = True\n",
    "    else:\n",
    "        depositLoan = driver.find_element_by_xpath('/html/body/div[1]/div/div[2]/div/ul/li[8]/div')\n",
    "        depositLoan = depositLoan.get_attribute('innerText')\n",
    "        if depositLoan == '가능':\n",
    "            depositLoan = True\n",
    "        else:\n",
    "            depositLoan = False\n",
    "print('depositLoan >>', depositLoan)"
   ]
  },
  {
   "cell_type": "code",
   "execution_count": 31,
   "metadata": {},
   "outputs": [
    {
     "name": "stdout",
     "output_type": "stream",
     "text": [
      "totalCitizen >> 636세대\n"
     ]
    }
   ],
   "source": [
    "# totalCitizen \n",
    "if post_type == '아파트':\n",
    "    totalCitizen = driver.find_element_by_xpath('/html/body/div[1]/div/div[2]/div/ul/li[5]/div')\n",
    "    totalCitizen = totalCitizen.get_attribute('innerText')\n",
    "else:\n",
    "    totalCitizen = None\n",
    "print('totalCitizen >>', totalCitizen)"
   ]
  },
  {
   "cell_type": "code",
   "execution_count": 32,
   "metadata": {},
   "outputs": [
    {
     "name": "stdout",
     "output_type": "stream",
     "text": [
      "totalPark >> 0.8대\n"
     ]
    }
   ],
   "source": [
    "if post_type==\"아파트\":\n",
    "    totalPark = driver.find_element_by_xpath('/html/body/div[1]/div/div[2]/div/ul/li[6]/div')\n",
    "    totalPark = totalPark.get_attribute('innerText')\n",
    "else:\n",
    "    totalPark = None"
   ]
  },
  {
   "cell_type": "code",
   "execution_count": 33,
   "metadata": {},
   "outputs": [
    {
     "name": "stdout",
     "output_type": "stream",
     "text": [
      "complete >>  1995.05 준공\n"
     ]
    }
   ],
   "source": [
    "if post_type == '아파트':\n",
    "    complete = driver.find_element_by_xpath('/html/body/div[1]/div/div[2]/div/ul/li[4]/div')\n",
    "    complete = complete.get_attribute('innerText')\n",
    "else:\n",
    "    complete = None\n",
    "print('complete >> ', complete)"
   ]
  },
  {
   "cell_type": "code",
   "execution_count": null,
   "metadata": {},
   "outputs": [],
   "source": []
  }
 ],
 "metadata": {
  "kernelspec": {
   "display_name": "Python 3",
   "language": "python",
   "name": "python3"
  },
  "language_info": {
   "codemirror_mode": {
    "name": "ipython",
    "version": 3
   },
   "file_extension": ".py",
   "mimetype": "text/x-python",
   "name": "python",
   "nbconvert_exporter": "python",
   "pygments_lexer": "ipython3",
   "version": "3.7.4"
  }
 },
 "nbformat": 4,
 "nbformat_minor": 4
}
