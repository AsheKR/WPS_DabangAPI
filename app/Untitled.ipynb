{
 "cells": [
  {
   "cell_type": "code",
   "execution_count": 1,
   "metadata": {},
   "outputs": [],
   "source": [
    "from selenium import webdriver\n",
    "import time\n",
    "from selenium.common.exceptions import NoSuchElementException"
   ]
  },
  {
   "cell_type": "code",
   "execution_count": 2,
   "metadata": {},
   "outputs": [],
   "source": [
    "driver = webdriver.Chrome('/Users/mac/projects/ChromeWebDriver/chromedriver')"
   ]
  },
  {
   "cell_type": "code",
   "execution_count": 3,
   "metadata": {},
   "outputs": [],
   "source": [
    "# driver.get('https://www.dabangapp.com/room/5e843a4d99a00c17e3bc85c4')\n",
    "\n",
    "# 아파트\n",
    "driver.get('https://www.dabangapp.com/room/5e8c1f6ef9ae1d50cbdf754b')"
   ]
  },
  {
   "cell_type": "code",
   "execution_count": 4,
   "metadata": {},
   "outputs": [
    {
     "data": {
      "text/plain": [
       "'아파트'"
      ]
     },
     "execution_count": 4,
     "metadata": {},
     "output_type": "execute_result"
    }
   ],
   "source": [
    "time.sleep(2)\n",
    "post_type = driver.find_element_by_xpath('/html/body/div[1]/div/div[1]/div/ul/li[1]/p/span')\n",
    "post_type = post_type.get_attribute('innerText')\n",
    "post_type"
   ]
  },
  {
   "cell_type": "code",
   "execution_count": 5,
   "metadata": {},
   "outputs": [],
   "source": [
    "# 상세 설명 보기\n",
    "try:\n",
    "    button = driver.find_element_by_xpath(\"/html/body/div[1]/div/div[4]/div/div/button\")\n",
    "    driver.execute_script(\"arguments[0].click();\", button)\n",
    "except NoSuchElementException:\n",
    "    pass\n"
   ]
  },
  {
   "cell_type": "code",
   "execution_count": 6,
   "metadata": {},
   "outputs": [
    {
     "data": {
      "text/plain": [
       "'깨끗함 입주일 5월4일'"
      ]
     },
     "execution_count": 6,
     "metadata": {},
     "output_type": "execute_result"
    }
   ],
   "source": [
    "unrefined_description = driver.find_elements_by_xpath(\"/html/body/div[1]/div/div[4]/div/div\")\n",
    "description = unrefined_description[0].get_attribute(\"innerText\")\n",
    "description.replace(\"\\n\", \"\")"
   ]
  },
  {
   "cell_type": "code",
   "execution_count": 7,
   "metadata": {},
   "outputs": [
    {
     "name": "stdout",
     "output_type": "stream",
     "text": [
      "salesType: 매물 종류는>> 전세\n",
      "salesDepositChar:  6억\n",
      "salesdepositInt:  600000000\n"
     ]
    }
   ],
   "source": [
    "unrefined_salesform = driver.find_elements_by_xpath('/html/body/div[1]/div/div[1]/div/ul/li[1]/div')\n",
    "salesForm = unrefined_salesform[0].get_attribute(\"innerText\")\n",
    "salesForm = salesForm.replace('/', ' ')\n",
    "salesForm = salesForm.replace('\\n', '')\n",
    "salesForm = salesForm.split()\n",
    "salesType = salesForm[0]  # sales type\n",
    "print('salesType: 매물 종류는>>', salesType)\n",
    "salesDepositChar = salesForm[1]\n",
    "if salesDepositChar.find('원'):\n",
    "    salesDepositChar = salesDepositChar.replace('원', '')\n",
    "    print('salesDepositChar: ', salesDepositChar)\n",
    "salesdepositInt = salesDepositChar.replace('억', '00000000')\n",
    "if salesdepositInt.find('만'):\n",
    "    salesdepositInt = salesdepositInt.replace('만', '')\n",
    "salesdepositInt = int(salesdepositInt)\n",
    "print('salesdepositInt: ', salesdepositInt)\n",
    "\n",
    "\n",
    "try:\n",
    "    salesmonthlyChar = salesForm[2]\n",
    "    print('salesmonthlyChar: ', salesmonthlyChar)\n",
    "    salesmonthlyInt = salesmonthlyChar.replace('만원', '0000')\n",
    "    salesmonthlyInt = int(salesmonthlyInt)\n",
    "    print('salesmonthlyInt: ', salesmonthlyInt)\n",
    "    if salesType == '전세':\n",
    "        # 전세는 금액이 억, 만원이 붙어 있는 경우가 있어서 이렇게 처리.\n",
    "        salesdepositInt = salesdepositInt + salesmonthlyInt\n",
    "        salesDepositChar = salesDepositChar + salesmonthlyChar\n",
    "except IndexError:\n",
    "    salesmonthlyInt = 0\n",
    "    salesmonthlyChar = ''"
   ]
  },
  {
   "cell_type": "code",
   "execution_count": 8,
   "metadata": {},
   "outputs": [
    {
     "name": "stdout",
     "output_type": "stream",
     "text": [
      "[<selenium.webdriver.remote.webelement.WebElement (session=\"73a9ff731af52ffad75b6d36b392e714\", element=\"0.005160792155824545-4\")>, <selenium.webdriver.remote.webelement.WebElement (session=\"73a9ff731af52ffad75b6d36b392e714\", element=\"0.005160792155824545-5\")>]\n"
     ]
    },
    {
     "data": {
      "text/plain": [
       "'※ 방 수와 욕실 수 정보는 평면도와 다를 수 있습니다.'"
      ]
     },
     "execution_count": 8,
     "metadata": {},
     "output_type": "execute_result"
    }
   ],
   "source": [
    "if post_type ==\"아파트\":\n",
    "    if salesType == \"매매\":\n",
    "        address = driver.find_elements_by_xpath('/html/body/div[1]/div/div[5]/div[3]/div/p')\n",
    "    else:\n",
    "        address = driver.find_elements_by_xpath('/html/body/div[1]/div/div[5]/div[5]/div/p')\n",
    "else:\n",
    "    address = driver.find_elements_by_xpath('/html/body/div[1]/div/div[5]/div[4]/div/p')\n",
    "if not address:\n",
    "    address = driver.find_elements_by_xpath('/html/body/div[1]/div/div[5]/div/div/p')\n",
    "print(address)\n",
    "address = address[0].get_attribute('innerText')\n",
    "address"
   ]
  },
  {
   "cell_type": "code",
   "execution_count": 9,
   "metadata": {},
   "outputs": [
    {
     "name": "stdout",
     "output_type": "stream",
     "text": [
      "floor>> 11층 \n",
      "totalFloor >>  13층\n"
     ]
    }
   ],
   "source": [
    "unrefined_floor = driver.find_elements_by_xpath('/html/body/div[1]/div/div[2]/div/ul/li[1]/div')\n",
    "total_floor = unrefined_floor[0].get_attribute('innerText')\n",
    "total_floor = total_floor.split('/')\n",
    "floor = total_floor[0]\n",
    "floor = floor\n",
    "print('floor>>', floor)\n",
    "totalFloor = total_floor[1]\n",
    "totalFloor = totalFloor.replace(' ', '')\n",
    "totalFloor = totalFloor\n",
    "print('totalFloor >> ', totalFloor)"
   ]
  },
  {
   "cell_type": "code",
   "execution_count": 10,
   "metadata": {},
   "outputs": [
    {
     "name": "stdout",
     "output_type": "stream",
     "text": [
      "area >> 84.95 / 113.5㎡\n",
      "areaChar >>  84.95 / 113.5㎡\n"
     ]
    }
   ],
   "source": [
    "unrefined_area = driver.find_elements_by_xpath('/html/body/div[1]/div/div[2]/div/ul/li[2]/div/span')\n",
    "area = unrefined_area[0].get_attribute('innerText')\n",
    "print('area >>', area)\n",
    "areaChar = area\n",
    "print('areaChar >> ', areaChar)"
   ]
  },
  {
   "cell_type": "code",
   "execution_count": 11,
   "metadata": {},
   "outputs": [],
   "source": [
    "# 평수로 변환해주는 버튼 클릭\n",
    "time.sleep(1)\n",
    "driver.find_element_by_xpath('/html/body/div[1]/div/div[2]/div/ul/li[2]/div/button').click()\n"
   ]
  },
  {
   "cell_type": "code",
   "execution_count": 12,
   "metadata": {},
   "outputs": [
    {
     "name": "stdout",
     "output_type": "stream",
     "text": [
      "supplyAreaChar >>  26 / 34평\n",
      "supplyAreaInt >>  34\n"
     ]
    }
   ],
   "source": [
    "unrefined_area = driver.find_elements_by_xpath('/html/body/div[1]/div/div[2]/div/ul/li[2]/div/span')\n",
    "supplyAreaChar = unrefined_area[0].get_attribute('innerText')\n",
    "print('supplyAreaChar >> ', supplyAreaChar)\n",
    "supplyAreaInt = supplyAreaChar.split('/')\n",
    "supplyAreaInt = supplyAreaInt[1].replace('평', '')\n",
    "\n",
    "supplyAreaInt = supplyAreaInt.strip()\n",
    "\n",
    "supplyAreaInt = int(supplyAreaInt)\n",
    "print('supplyAreaInt >> ', supplyAreaInt)"
   ]
  },
  {
   "cell_type": "markdown",
   "metadata": {},
   "source": [
    "### 매매에서는 shortRent가 None"
   ]
  },
  {
   "cell_type": "code",
   "execution_count": 13,
   "metadata": {},
   "outputs": [
    {
     "name": "stdout",
     "output_type": "stream",
     "text": [
      "shortRent >> True\n"
     ]
    }
   ],
   "source": [
    "try:\n",
    "    if post_type=='아파트':\n",
    "        unrefined_shortRent = driver.find_elements_by_xpath(\n",
    "            '/html/body/div[1]/div/div[5]/div[3]/div/table/tbody/tr/td[5]/p')\n",
    "    else:\n",
    "        unrefined_shortRent = driver.find_elements_by_xpath('/html/body/div[1]/div/div[5]/div[2]/div/table/tbody/tr/td[5]/p')\n",
    "        if not unrefined_shortRent:\n",
    "            unrefined_shortRent = driver.find_elements_by_xpath('/html/body/div[1]/div/div[5]/div[3]/div/table/tbody/tr/td[4]/p')\n",
    "    shortRent = unrefined_shortRent[0].get_attribute('innerText')\n",
    "    shortRent = shortRent\n",
    "\n",
    "    if shortRent == '불가능':\n",
    "        shortRent = False\n",
    "    else:\n",
    "        shortRent = True\n",
    "        \n",
    "except IndexError:\n",
    "    # 매매에서는 단기임대가 없음. \n",
    "    shortRent=None\n",
    "print('shortRent >>', shortRent)"
   ]
  },
  {
   "cell_type": "markdown",
   "metadata": {},
   "source": [
    "## management가 안보이면 None"
   ]
  },
  {
   "cell_type": "code",
   "execution_count": 14,
   "metadata": {},
   "outputs": [],
   "source": [
    "try:\n",
    "    if post_type==\"아파트\":\n",
    "        management = driver.find_element_by_xpath('/html/body/div[1]/div/div[5]/div[3]/div/table/tbody/tr/td[3]')\n",
    "    else:\n",
    "        if salesType == \"매매\":\n",
    "            management = driver.find_element_by_xpath('/html/body/div[1]/div/div[5]/div[2]/div/table/tbody/tr/td[2]')\n",
    "        else:\n",
    "            management = driver.find_element_by_xpath('/html/body/div[1]/div/div[5]/div[2]/div/table/tbody/tr/td[3]')\n",
    "except NoSuchElementException:\n",
    "    management = None\n",
    "#     management = driver.find_element_by_xpath('/html/body/div[1]/div/div[5]/div[2]/div/table/tbody/tr/td[3]')\n",
    "try:\n",
    "    management = management.get_attribute('innerText')\n",
    "    management = management.replace('\\n', '')\n",
    "    management = management.replace(' ', '')\n",
    "    management = management.replace('(', ' ')\n",
    "    management = management.replace(')', ' ')\n",
    "    management = management.replace(',', ' ')\n",
    "    management = management.strip(' ')\n",
    "    management = management.split(' ')\n",
    "except AttributeError:\n",
    "    pass"
   ]
  },
  {
   "cell_type": "code",
   "execution_count": 15,
   "metadata": {
    "scrolled": true
   },
   "outputs": [
    {
     "name": "stdout",
     "output_type": "stream",
     "text": [
      "0\n",
      "[]\n"
     ]
    }
   ],
   "source": [
    "try:\n",
    "    managementPay = management.pop(0)\n",
    "    if managementPay.find('만원'):\n",
    "        managementPay = managementPay.replace('만원', ' ')\n",
    "        if managementPay == '없음':\n",
    "            managementPay = 0\n",
    "        managementPay = int(managementPay)\n",
    "    else:\n",
    "        managementPay = 0\n",
    "    totalFee = managementPay\n",
    "    print(totalFee)\n",
    "    print(management)\n",
    "except IndexError:\n",
    "    pass\n",
    "except AttributeError:\n",
    "    pass\n",
    "except NameError:\n",
    "    pass"
   ]
  },
  {
   "cell_type": "code",
   "execution_count": 16,
   "metadata": {},
   "outputs": [],
   "source": [
    "try:\n",
    "    if post_type ==\"아파트\":\n",
    "        if salesType ==\"매매\":\n",
    "            unrefined_parking = None\n",
    "        else:\n",
    "            unrefined_parking = driver.find_elements_by_xpath('/html/body/div[1]/div/div[5]/div[3]/div/table/tbody/tr/td[4]/p')\n",
    "    else:\n",
    "        if salesType == \"매매\":\n",
    "        # 일반 주택 매매\n",
    "            unrefined_parking = driver.find_elements_by_xpath(\"/html/body/div[1]/div/div[5]/div[2]/div/table/tbody/tr/td[3]\")\n",
    "        else:    \n",
    "            unrefined_parking = driver.find_elements_by_xpath(\"/html/body/div[1]/div/div[5]/div[2]/div/table/tbody/tr/td[4]/p\")\n",
    "    parkingDetail = unrefined_parking[0].get_attribute('innerText')\n",
    "except IndexError:\n",
    "    unrefined_parking = driver.find_elements_by_xpath(\n",
    "        '/html/body/div[1]/div/div[5]/div[3]/div/table/tbody/tr/td[4]/p'\n",
    "    )\n",
    "    parkingDetail = unrefined_parking[0].get_attribute('innerText')\n",
    "except TypeError:\n",
    "    parkingDetail = True"
   ]
  },
  {
   "cell_type": "code",
   "execution_count": 17,
   "metadata": {},
   "outputs": [
    {
     "data": {
      "text/plain": [
       "'문의'"
      ]
     },
     "execution_count": 17,
     "metadata": {},
     "output_type": "execute_result"
    }
   ],
   "source": [
    "parkingDetail"
   ]
  },
  {
   "cell_type": "code",
   "execution_count": 18,
   "metadata": {},
   "outputs": [
    {
     "name": "stdout",
     "output_type": "stream",
     "text": [
      "parkingTF >> True\n"
     ]
    }
   ],
   "source": [
    "if parkingDetail == '불가':\n",
    "    parkingTF = False\n",
    "else:\n",
    "    parkingTF = True\n",
    "print('parkingTF >>', parkingTF)"
   ]
  },
  {
   "cell_type": "code",
   "execution_count": 19,
   "metadata": {},
   "outputs": [],
   "source": [
    "try:\n",
    "    if not salesType == \"매매\":\n",
    "        if post_type ==\"아파트\":\n",
    "            unrefined_living_expenses = driver.find_elements_by_xpath('/html/body/div[1]/div/div[5]/div[3]/div/div/div/label')\n",
    "            unrefined_living_expenses_detail = driver.find_elements_by_xpath('/html/body/div[1]/div/div[5]/div[3]/div/div/div/span')\n",
    "        else:\n",
    "            try:\n",
    "                unrefined_living_expenses = driver.find_elements_by_xpath('/html/body/div[1]/div/div[5]/div[2]/div/div/div/label')\n",
    "                unrefined_living_expenses_detail = driver.find_elements_by_xpath('/html/body/div[1]/div/div[5]/div[2]/div/div/div/span')\n",
    "            except NoSuchElementException:\n",
    "                unrefined_living_expenses = driver.find_elements_by_xpath('/html/body/div[1]/div/div[5]/div[3]/div/div/div/label')\n",
    "                unrefined_living_expenses_detail = driver.find_elements_by_xpath('/html/body/div[1]/div/div[5]/div[3]/div/table/tbody/tr/td[3]/p[2]/span')                \n",
    "    else:\n",
    "        living_expenses = None\n",
    "        living_expenses_detail = None\n",
    "except NoSuchElementException:\n",
    "    pass"
   ]
  },
  {
   "cell_type": "code",
   "execution_count": 20,
   "metadata": {},
   "outputs": [
    {
     "name": "stdout",
     "output_type": "stream",
     "text": [
      "[<selenium.webdriver.remote.webelement.WebElement (session=\"73a9ff731af52ffad75b6d36b392e714\", element=\"0.005160792155824545-12\")>]\n",
      "[<selenium.webdriver.remote.webelement.WebElement (session=\"73a9ff731af52ffad75b6d36b392e714\", element=\"0.005160792155824545-13\")>]\n"
     ]
    }
   ],
   "source": [
    "print(unrefined_living_expenses)\n",
    "print(unrefined_living_expenses_detail)"
   ]
  },
  {
   "cell_type": "code",
   "execution_count": 21,
   "metadata": {},
   "outputs": [
    {
     "name": "stdout",
     "output_type": "stream",
     "text": [
      "0만 원 + α\n",
      "(-)\n"
     ]
    }
   ],
   "source": [
    "try:\n",
    "    unrefined_living_expenses = unrefined_living_expenses[0].get_attribute('innerText')\n",
    "    print(unrefined_living_expenses)\n",
    "    living_expenses = unrefined_living_expenses.replace(' ', '')\n",
    "    living_expenses_detail = unrefined_living_expenses_detail[0].get_attribute('innerText')\n",
    "    print(living_expenses_detail)\n",
    "except IndexError:\n",
    "    unrefined_living_expenses = driver.find_elements_by_xpath(\n",
    "        '/html/body/div[1]/div/div[5]/div[3]/div/div/div/label'\n",
    "    )\n",
    "    unrefined_living_expenses_detail = driver.find_elements_by_xpath(\n",
    "        '/html/body/div[1]/div/div[5]/div[3]/div/div/div/span')\n",
    "    unrefined_living_expenses = unrefined_living_expenses[0].get_attribute('innerText')\n",
    "    living_expenses = unrefined_living_expenses.replace(' ', '')\n",
    "    living_expenses_detail = unrefined_living_expenses_detail[0].get_attribute('innerText')\n",
    "except TypeError:\n",
    "    pass"
   ]
  },
  {
   "cell_type": "code",
   "execution_count": 22,
   "metadata": {},
   "outputs": [
    {
     "name": "stdout",
     "output_type": "stream",
     "text": [
      "living_expenses >> 0만원+α\n",
      "living_expenses_detail >>  (-)\n"
     ]
    }
   ],
   "source": [
    "print('living_expenses >>', living_expenses)\n",
    "print('living_expenses_detail >> ', living_expenses_detail)"
   ]
  },
  {
   "cell_type": "code",
   "execution_count": null,
   "metadata": {},
   "outputs": [],
   "source": []
  },
  {
   "cell_type": "code",
   "execution_count": null,
   "metadata": {},
   "outputs": [],
   "source": []
  }
 ],
 "metadata": {
  "kernelspec": {
   "display_name": "Python 3",
   "language": "python",
   "name": "python3"
  },
  "language_info": {
   "codemirror_mode": {
    "name": "ipython",
    "version": 3
   },
   "file_extension": ".py",
   "mimetype": "text/x-python",
   "name": "python",
   "nbconvert_exporter": "python",
   "pygments_lexer": "ipython3",
   "version": "3.7.4"
  }
 },
 "nbformat": 4,
 "nbformat_minor": 4
}
